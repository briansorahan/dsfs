{
 "cells": [
  {
   "cell_type": "code",
   "execution_count": null,
   "metadata": {
    "collapsed": true
   },
   "outputs": [],
   "source": [
    "import pandas            as pd\n",
    "import numpy             as np\n",
    "import statsmodels.api   as sm\n",
    "\n",
    "def getInterestRate(s):\n",
    "    return float(s[:-1])\n",
    "\n",
    "loansData = pd.read_csv(\"loansData.csv\")\n",
    "loansData[\"Annual.Income\"] = map(lambda s: float(s) * 12, loansData[\"Monthly.Income\"])\n",
    "\n",
    "annualIncome = loansData[\"Annual.Income\"]\n",
    "interestRate = map(getInterestRate, loansData[\"Interest.Rate\"])\n",
    "\n",
    "X = np.matrix(annualIncome).transpose()\n",
    "y = np.matrix(interestRate).transpose()\n",
    "\n",
    "# loansData.head()\n",
    "\n",
    "X = sm.add_constant(X)\n",
    "sm.OLS(y, X).fit().summary()"
   ]
  }
 ],
 "metadata": {
  "kernelspec": {
   "display_name": "Python 2",
   "language": "python",
   "name": "python2"
  },
  "language_info": {
   "codemirror_mode": {
    "name": "ipython",
    "version": 2
   },
   "file_extension": ".py",
   "mimetype": "text/x-python",
   "name": "python",
   "nbconvert_exporter": "python",
   "pygments_lexer": "ipython2",
   "version": "2.7.11"
  }
 },
 "nbformat": 4,
 "nbformat_minor": 0
}
