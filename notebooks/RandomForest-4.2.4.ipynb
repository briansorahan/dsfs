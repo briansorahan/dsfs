{
 "cells": [
  {
   "cell_type": "code",
   "execution_count": 1,
   "metadata": {
    "collapsed": true
   },
   "outputs": [],
   "source": [
    "import numpy as np\n",
    "import pandas as pd\n",
    "import sklearn.cross_validation as cv\n",
    "import sklearn.metrics as metrics\n",
    "\n",
    "from sklearn.ensemble import RandomForestClassifier"
   ]
  },
  {
   "cell_type": "code",
   "execution_count": 2,
   "metadata": {
    "collapsed": false
   },
   "outputs": [
    {
     "data": {
      "text/plain": [
       "['x0', 'x1', 'x2', 'x3', 'x4', 'x5', 'x6', 'x7', 'x8', 'x9']"
      ]
     },
     "execution_count": 2,
     "metadata": {},
     "output_type": "execute_result"
    }
   ],
   "source": [
    "# Read feature metadata.\n",
    "readings     = pd.read_csv('ucihar/cleaned_features.csv', index_col=0)\n",
    "column_names = []\n",
    "for i in range(len(readings['reading'].values)):\n",
    "    column_names.append('x{}'.format(i))\n",
    "column_names[0:10]"
   ]
  },
  {
   "cell_type": "code",
   "execution_count": 3,
   "metadata": {
    "collapsed": false
   },
   "outputs": [],
   "source": [
    "# Read training data.\n",
    "# Only use subjects >= 27 for training.\n",
    "subj_train        = pd.read_table('ucihar/train/subject_train.txt', header=None, names=['subject'])\n",
    "X_train           = pd.read_csv('ucihar/train/X_train.csv', header=None, names=column_names)\n",
    "y_train           = pd.read_table('ucihar/train/y_train.txt', header=None, names=['activity'])\n",
    "X_train           = X_train[subj_train['subject'] >= 27]\n",
    "y_train           = y_train[subj_train['subject'] >= 27]"
   ]
  },
  {
   "cell_type": "code",
   "execution_count": 4,
   "metadata": {
    "collapsed": false
   },
   "outputs": [],
   "source": [
    "# Read testing data.\n",
    "# Only use subjects <= 6 for testing.\n",
    "subj_test        = pd.read_table('ucihar/test/subject_test.txt', header=None, names=['subject'])\n",
    "X_test           = pd.read_csv('ucihar/test/X_test.csv', header=None, names=column_names)\n",
    "y_test           = pd.read_table('ucihar/test/y_test.txt', header=None, names=['activity'])\n",
    "X_validate       = X_test[(subj_test['subject'] >= 21) & (subj_test['subject'] < 27)]\n",
    "y_validate       = y_test[(subj_test['subject'] >= 21) & (subj_test['subject'] < 27)]\n",
    "X_test           = X_test[subj_test['subject'] <= 6]\n",
    "y_test           = y_test[subj_test['subject'] <= 6]"
   ]
  },
  {
   "cell_type": "code",
   "execution_count": 5,
   "metadata": {
    "collapsed": true
   },
   "outputs": [],
   "source": [
    "# Fit a random forest classifier with 50 estimators.\n",
    "clf = RandomForestClassifier(n_estimators=50)\n",
    "clf = clf.fit(X_train, y_train['activity'])"
   ]
  },
  {
   "cell_type": "code",
   "execution_count": 6,
   "metadata": {
    "collapsed": false
   },
   "outputs": [
    {
     "data": {
      "text/plain": [
       "0.78513731825525035"
      ]
     },
     "execution_count": 6,
     "metadata": {},
     "output_type": "execute_result"
    }
   ],
   "source": [
    "clf.score(X_test, y_test['activity'])"
   ]
  },
  {
   "cell_type": "code",
   "execution_count": 7,
   "metadata": {
    "collapsed": false
   },
   "outputs": [
    {
     "data": {
      "text/plain": [
       "False"
      ]
     },
     "execution_count": 7,
     "metadata": {},
     "output_type": "execute_result"
    }
   ],
   "source": [
    "clf.oob_score"
   ]
  },
  {
   "cell_type": "code",
   "execution_count": 8,
   "metadata": {
    "collapsed": false
   },
   "outputs": [
    {
     "data": {
      "text/plain": [
       "array([ 1.,  1.,  1.,  1.,  1.,  1.,  1.,  1.,  1.,  1.])"
      ]
     },
     "execution_count": 8,
     "metadata": {},
     "output_type": "execute_result"
    }
   ],
   "source": [
    "# Evaluate the model against the data for subjects >= 21 and < 27.\n",
    "score = cv.cross_val_score(clf, X_validate, y_validate['activity'], scoring='accuracy', cv=10)\n",
    "score"
   ]
  },
  {
   "cell_type": "code",
   "execution_count": 9,
   "metadata": {
    "collapsed": false
   },
   "outputs": [
    {
     "data": {
      "text/html": [
       "<div>\n",
       "<table border=\"1\" class=\"dataframe\">\n",
       "  <thead>\n",
       "    <tr style=\"text-align: right;\">\n",
       "      <th></th>\n",
       "      <th>name</th>\n",
       "      <th>importance</th>\n",
       "    </tr>\n",
       "  </thead>\n",
       "  <tbody>\n",
       "    <tr>\n",
       "      <th>52</th>\n",
       "      <td>x52</td>\n",
       "      <td>0.055072</td>\n",
       "    </tr>\n",
       "    <tr>\n",
       "      <th>558</th>\n",
       "      <td>x558</td>\n",
       "      <td>0.037126</td>\n",
       "    </tr>\n",
       "    <tr>\n",
       "      <th>40</th>\n",
       "      <td>x40</td>\n",
       "      <td>0.025474</td>\n",
       "    </tr>\n",
       "    <tr>\n",
       "      <th>53</th>\n",
       "      <td>x53</td>\n",
       "      <td>0.024868</td>\n",
       "    </tr>\n",
       "    <tr>\n",
       "      <th>42</th>\n",
       "      <td>x42</td>\n",
       "      <td>0.020988</td>\n",
       "    </tr>\n",
       "    <tr>\n",
       "      <th>559</th>\n",
       "      <td>x559</td>\n",
       "      <td>0.019551</td>\n",
       "    </tr>\n",
       "    <tr>\n",
       "      <th>560</th>\n",
       "      <td>x560</td>\n",
       "      <td>0.018825</td>\n",
       "    </tr>\n",
       "    <tr>\n",
       "      <th>56</th>\n",
       "      <td>x56</td>\n",
       "      <td>0.017307</td>\n",
       "    </tr>\n",
       "    <tr>\n",
       "      <th>51</th>\n",
       "      <td>x51</td>\n",
       "      <td>0.016801</td>\n",
       "    </tr>\n",
       "    <tr>\n",
       "      <th>54</th>\n",
       "      <td>x54</td>\n",
       "      <td>0.015660</td>\n",
       "    </tr>\n",
       "  </tbody>\n",
       "</table>\n",
       "</div>"
      ],
      "text/plain": [
       "     name  importance\n",
       "52    x52    0.055072\n",
       "558  x558    0.037126\n",
       "40    x40    0.025474\n",
       "53    x53    0.024868\n",
       "42    x42    0.020988\n",
       "559  x559    0.019551\n",
       "560  x560    0.018825\n",
       "56    x56    0.017307\n",
       "51    x51    0.016801\n",
       "54    x54    0.015660"
      ]
     },
     "execution_count": 9,
     "metadata": {},
     "output_type": "execute_result"
    }
   ],
   "source": [
    "# Create a data frame for the feature importances.\n",
    "importance_data = { 'name': column_names, 'importance': clf.feature_importances_ }\n",
    "importances     = pd.DataFrame(importance_data, columns=['name', 'importance'])\n",
    "importances.sort_values(by='importance', ascending=False)[0:10]"
   ]
  },
  {
   "cell_type": "code",
   "execution_count": 10,
   "metadata": {
    "collapsed": false
   },
   "outputs": [
    {
     "data": {
      "text/html": [
       "<div>\n",
       "<table border=\"1\" class=\"dataframe\">\n",
       "  <thead>\n",
       "    <tr style=\"text-align: right;\">\n",
       "      <th></th>\n",
       "      <th>activity</th>\n",
       "    </tr>\n",
       "  </thead>\n",
       "  <tbody>\n",
       "    <tr>\n",
       "      <th>1</th>\n",
       "      <td>WALKING</td>\n",
       "    </tr>\n",
       "    <tr>\n",
       "      <th>2</th>\n",
       "      <td>WALKING_UPSTAIRS</td>\n",
       "    </tr>\n",
       "    <tr>\n",
       "      <th>3</th>\n",
       "      <td>WALKING_DOWNSTAIRS</td>\n",
       "    </tr>\n",
       "    <tr>\n",
       "      <th>4</th>\n",
       "      <td>SITTING</td>\n",
       "    </tr>\n",
       "    <tr>\n",
       "      <th>5</th>\n",
       "      <td>STANDING</td>\n",
       "    </tr>\n",
       "    <tr>\n",
       "      <th>6</th>\n",
       "      <td>LAYING</td>\n",
       "    </tr>\n",
       "  </tbody>\n",
       "</table>\n",
       "</div>"
      ],
      "text/plain": [
       "             activity\n",
       "1             WALKING\n",
       "2    WALKING_UPSTAIRS\n",
       "3  WALKING_DOWNSTAIRS\n",
       "4             SITTING\n",
       "5            STANDING\n",
       "6              LAYING"
      ]
     },
     "execution_count": 10,
     "metadata": {},
     "output_type": "execute_result"
    }
   ],
   "source": [
    "%matplotlib inline\n",
    "\n",
    "import matplotlib.pyplot as plt\n",
    "\n",
    "activities        = pd.read_table('ucihar/cleaned_labels.txt', names=['activity'])\n",
    "activities.index += 1\n",
    "activities"
   ]
  },
  {
   "cell_type": "code",
   "execution_count": 11,
   "metadata": {
    "collapsed": true
   },
   "outputs": [],
   "source": [
    "target_names = activities['activity'].values.tolist()\n",
    "\n",
    "# Plot a confusion matrix.\n",
    "def plot_confusion_matrix(cm, title='Confusion Matrix', cmap=plt.cm.Blues):\n",
    "    plt.imshow(cm, interpolation='nearest', cmap=cmap)\n",
    "    plt.title(title)\n",
    "    plt.colorbar()\n",
    "    tick_marks = np.arange(len(target_names))\n",
    "    plt.xticks(tick_marks, target_names, rotation=45)\n",
    "    plt.yticks(tick_marks, target_names)\n",
    "    plt.tight_layout()\n",
    "    plt.ylabel('True label')\n",
    "    plt.xlabel('Predicted label')"
   ]
  },
  {
   "cell_type": "code",
   "execution_count": 12,
   "metadata": {
    "collapsed": false
   },
   "outputs": [
    {
     "data": {
      "image/png": "[encoded data removed]",
      "text/plain": [
       "<matplotlib.figure.Figure at 0x7f1912c6ef90>"
      ]
     },
     "metadata": {},
     "output_type": "display_data"
    }
   ],
   "source": [
    "from sklearn.metrics import confusion_matrix\n",
    "\n",
    "# Create the confusion matrix.\n",
    "y_pred = clf.predict(X_test)\n",
    "cm     = confusion_matrix(y_test, y_pred)\n",
    "\n",
    "plt.figure(figsize=(8, 8))\n",
    "plot_confusion_matrix(cm)"
   ]
  },
  {
   "cell_type": "code",
   "execution_count": 13,
   "metadata": {
    "collapsed": false
   },
   "outputs": [
    {
     "data": {
      "text/plain": [
       "(array([ 0.95963542,  0.95416667,  0.97270471,  0.95268817,  0.97311828,\n",
       "         0.94650538,  1.        ,  0.9852459 ,  1.        ,  0.97272727]),\n",
       " array([ 0.921875  ,  0.9375    ,  0.96774194,  0.9516129 ,  1.        ,\n",
       "         0.88709677,  1.        ,  0.98360656,  0.98360656,  0.96666667]),\n",
       " array([ 0.90350379,  0.90494792,  0.96729391,  0.93238213,  0.96729391,\n",
       "         0.9026245 ,  1.        ,  1.        ,  0.98348078,  0.98320546]))"
      ]
     },
     "execution_count": 13,
     "metadata": {},
     "output_type": "execute_result"
    }
   ],
   "source": [
    "# Calculate precision, recall, and f1.\n",
    "precision = cv.cross_val_score(clf, X_test, y_test['activity'], scoring='precision_weighted', cv=10)\n",
    "recall    = cv.cross_val_score(clf, X_test, y_test['activity'], scoring='recall_weighted', cv=10)\n",
    "f1        = cv.cross_val_score(clf, X_test, y_test['activity'], scoring='f1_weighted', cv=10)\n",
    "(precision, recall, f1)"
   ]
  },
  {
   "cell_type": "code",
   "execution_count": null,
   "metadata": {
    "collapsed": true
   },
   "outputs": [],
   "source": []
  }
 ],
 "metadata": {
  "kernelspec": {
   "display_name": "Python 2",
   "language": "python",
   "name": "python2"
  },
  "language_info": {
   "codemirror_mode": {
    "name": "ipython",
    "version": 2
   },
   "file_extension": ".py",
   "mimetype": "text/x-python",
   "name": "python",
   "nbconvert_exporter": "python",
   "pygments_lexer": "ipython2",
   "version": "2.7.11"
  },
  "widgets": {
   "state": {},
   "version": "1.1.1"
  }
 },
 "nbformat": 4,
 "nbformat_minor": 0
}
