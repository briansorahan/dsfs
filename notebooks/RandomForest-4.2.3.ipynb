{
 "cells": [
  {
   "cell_type": "code",
   "execution_count": 1,
   "metadata": {
    "collapsed": true
   },
   "outputs": [],
   "source": [
    "%matplotlib inline\n",
    "\n",
    "import matplotlib.pyplot as plt\n",
    "import numpy as np\n",
    "import pandas as pd"
   ]
  },
  {
   "cell_type": "code",
   "execution_count": null,
   "metadata": {
    "collapsed": true
   },
   "outputs": [],
   "source": [
    "# Read in a bunch of data.\n",
    "\n",
    "activities       = pd.read_csv('ucihar/clean_labels.csv', index_col=0)\n",
    "readings         = pd.read_csv('ucihar/cleaned_features.csv', index_col=0)\n",
    "column_names     = readings['reading'].values\n",
    "X_train          = pd.read_csv('ucihar/train/X_train.csv', header=None, names=column_names)\n",
    "y_train          = pd.read_table('ucihar/train/y_train.txt', header=None, names=['activity'])\n",
    "X_train.index   += 1 # match up the index with readings\n",
    "y_train.index   += 1 # match up the index with readings\n",
    "activities_train = y_train.join(activities, on='activity', lsuffix='_L', rsuffix='_R')\n",
    "df               = X_train.join(activities_train)"
   ]
  }
 ],
 "metadata": {
  "kernelspec": {
   "display_name": "Python 2",
   "language": "python",
   "name": "python2"
  },
  "language_info": {
   "codemirror_mode": {
    "name": "ipython",
    "version": 2
   },
   "file_extension": ".py",
   "mimetype": "text/x-python",
   "name": "python",
   "nbconvert_exporter": "python",
   "pygments_lexer": "ipython2",
   "version": "2.7.11"
  },
  "widgets": {
   "state": {},
   "version": "1.1.1"
  }
 },
 "nbformat": 4,
 "nbformat_minor": 0
}
