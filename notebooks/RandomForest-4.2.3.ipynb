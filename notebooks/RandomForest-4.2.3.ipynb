{
 "cells": [
  {
   "cell_type": "code",
   "execution_count": 24,
   "metadata": {
    "collapsed": false
   },
   "outputs": [],
   "source": [
    "import numpy as np\n",
    "import pandas as pd\n",
    "import sklearn.cross_validation as cv\n",
    "import sklearn.metrics as metrics\n",
    "\n",
    "from sklearn.ensemble import RandomForestClassifier"
   ]
  },
  {
   "cell_type": "code",
   "execution_count": 2,
   "metadata": {
    "collapsed": true
   },
   "outputs": [],
   "source": [
    "# Read feature metadata.\n",
    "activities       = pd.read_csv('ucihar/clean_labels.csv', index_col=0)\n",
    "readings         = pd.read_csv('ucihar/cleaned_features.csv', index_col=0)\n",
    "column_names     = readings['reading'].values"
   ]
  },
  {
   "cell_type": "code",
   "execution_count": 3,
   "metadata": {
    "collapsed": true
   },
   "outputs": [],
   "source": [
    "# Read training data.\n",
    "X_train           = pd.read_csv('ucihar/train/X_train.csv', header=None, names=column_names)\n",
    "y_train           = pd.read_table('ucihar/train/y_train.txt', header=None, names=['activity'])\n",
    "subj_train        = pd.read_table('ucihar/train/subject_train.txt', header=None, names=['subject'])\n",
    "X_train.index    += 1 # match up the index with readings\n",
    "y_train.index    += 1 # match up the index with readings\n",
    "subj_train.index += 1 # match up the index with readings\n",
    "\n",
    "# activities_train = y_train.join(activities, on='activity', lsuffix='_number', rsuffix='_desc')\n",
    "# df_train         = X_train.join(activities_train)"
   ]
  },
  {
   "cell_type": "code",
   "execution_count": null,
   "metadata": {
    "collapsed": true
   },
   "outputs": [],
   "source": []
  },
  {
   "cell_type": "code",
   "execution_count": 22,
   "metadata": {
    "collapsed": false
   },
   "outputs": [],
   "source": [
    "# Read testing data.\n",
    "X_test           = pd.read_csv('ucihar/test/X_test.csv', header=None, names=column_names)\n",
    "y_test           = pd.read_table('ucihar/test/y_test.txt', header=None, names=['activity'])\n",
    "subj_test        = pd.read_table('ucihar/train/subject_train.txt', header=None, names=['subject'])\n",
    "X_test.index    += 1 # match up the index with readings\n",
    "y_test.index    += 1 # match up the index with readings\n",
    "subj_test.index += 1 # match up the index with readings\n",
    "\n",
    "# activities_test = y_test.join(activities, on='activity', lsuffix='_L', rsuffix='_R')\n",
    "# df_test         = X_test.join(activities_test)"
   ]
  },
  {
   "cell_type": "code",
   "execution_count": 8,
   "metadata": {
    "collapsed": false
   },
   "outputs": [],
   "source": [
    "clf = RandomForestClassifier(n_estimators=500)\n",
    "clf = clf.fit(X_train, y_train['activity'])"
   ]
  },
  {
   "cell_type": "code",
   "execution_count": 20,
   "metadata": {
    "collapsed": false
   },
   "outputs": [
    {
     "data": {
      "text/plain": [
       "(561, 561)"
      ]
     },
     "execution_count": 20,
     "metadata": {},
     "output_type": "execute_result"
    }
   ],
   "source": [
    "(len(clf.feature_importances_), len(column_names))"
   ]
  },
  {
   "cell_type": "code",
   "execution_count": 19,
   "metadata": {
    "collapsed": false
   },
   "outputs": [
    {
     "data": {
      "text/html": [
       "<div>\n",
       "<table border=\"1\" class=\"dataframe\">\n",
       "  <thead>\n",
       "    <tr style=\"text-align: right;\">\n",
       "      <th></th>\n",
       "      <th>name</th>\n",
       "      <th>importance</th>\n",
       "    </tr>\n",
       "  </thead>\n",
       "  <tbody>\n",
       "    <tr>\n",
       "      <th>40</th>\n",
       "      <td>tGravityAcc_mean_X</td>\n",
       "      <td>0.031922</td>\n",
       "    </tr>\n",
       "    <tr>\n",
       "      <th>56</th>\n",
       "      <td>tGravityAcc_energy_X</td>\n",
       "      <td>0.030986</td>\n",
       "    </tr>\n",
       "    <tr>\n",
       "      <th>52</th>\n",
       "      <td>tGravityAcc_min_X</td>\n",
       "      <td>0.029410</td>\n",
       "    </tr>\n",
       "    <tr>\n",
       "      <th>558</th>\n",
       "      <td>angle(X_gravityMean)</td>\n",
       "      <td>0.029327</td>\n",
       "    </tr>\n",
       "    <tr>\n",
       "      <th>41</th>\n",
       "      <td>tGravityAcc_mean_Y</td>\n",
       "      <td>0.026968</td>\n",
       "    </tr>\n",
       "    <tr>\n",
       "      <th>559</th>\n",
       "      <td>angle(Y_gravityMean)</td>\n",
       "      <td>0.024744</td>\n",
       "    </tr>\n",
       "    <tr>\n",
       "      <th>50</th>\n",
       "      <td>tGravityAcc_max_Y</td>\n",
       "      <td>0.022920</td>\n",
       "    </tr>\n",
       "    <tr>\n",
       "      <th>53</th>\n",
       "      <td>tGravityAcc_min_Y</td>\n",
       "      <td>0.022398</td>\n",
       "    </tr>\n",
       "    <tr>\n",
       "      <th>49</th>\n",
       "      <td>tGravityAcc_max_X</td>\n",
       "      <td>0.021746</td>\n",
       "    </tr>\n",
       "    <tr>\n",
       "      <th>57</th>\n",
       "      <td>tGravityAcc_energy_Y</td>\n",
       "      <td>0.017397</td>\n",
       "    </tr>\n",
       "  </tbody>\n",
       "</table>\n",
       "</div>"
      ],
      "text/plain": [
       "                     name  importance\n",
       "40     tGravityAcc_mean_X    0.031922\n",
       "56   tGravityAcc_energy_X    0.030986\n",
       "52      tGravityAcc_min_X    0.029410\n",
       "558  angle(X_gravityMean)    0.029327\n",
       "41     tGravityAcc_mean_Y    0.026968\n",
       "559  angle(Y_gravityMean)    0.024744\n",
       "50      tGravityAcc_max_Y    0.022920\n",
       "53      tGravityAcc_min_Y    0.022398\n",
       "49      tGravityAcc_max_X    0.021746\n",
       "57   tGravityAcc_energy_Y    0.017397"
      ]
     },
     "execution_count": 19,
     "metadata": {},
     "output_type": "execute_result"
    }
   ],
   "source": [
    "importance_data = { 'name': column_names, 'importance': clf.feature_importances_ }\n",
    "importances     = pd.DataFrame(importance_data, columns=['name', 'importance'])\n",
    "importances.sort_values(by='importance', ascending=False).head(10)"
   ]
  },
  {
   "cell_type": "code",
   "execution_count": 23,
   "metadata": {
    "collapsed": false
   },
   "outputs": [
    {
     "data": {
      "text/plain": [
       "0.92840176450627754"
      ]
     },
     "execution_count": 23,
     "metadata": {},
     "output_type": "execute_result"
    }
   ],
   "source": [
    "clf.score(X_test, y_test['activity'])"
   ]
  },
  {
   "cell_type": "code",
   "execution_count": 30,
   "metadata": {
    "collapsed": false
   },
   "outputs": [
    {
     "data": {
      "text/plain": [
       "'precision [ 0.93581159  0.94565779  0.88905973  0.90296581  0.98328983  0.93299219\\n  0.93915961  0.9277514   0.92619662  0.9835007 ] recall [ 0.9295302   0.93243243  0.89830508  0.88813559  0.98644068  0.93559322\\n  0.91496599  0.90784983  0.90784983  0.98634812]'"
      ]
     },
     "execution_count": 30,
     "metadata": {},
     "output_type": "execute_result"
    }
   ],
   "source": [
    "precision = cv.cross_val_score(clf, X_test, y_test['activity'], scoring='precision_weighted', cv=10)\n",
    "recall    = cv.cross_val_score(clf, X_test, y_test['activity'], scoring='recall_weighted', cv=10)\n",
    "'precision {} recall {}'.format(precision, recall)"
   ]
  },
  {
   "cell_type": "code",
   "execution_count": null,
   "metadata": {
    "collapsed": true
   },
   "outputs": [],
   "source": []
  }
 ],
 "metadata": {
  "kernelspec": {
   "display_name": "Python 2",
   "language": "python",
   "name": "python2"
  },
  "language_info": {
   "codemirror_mode": {
    "name": "ipython",
    "version": 2
   },
   "file_extension": ".py",
   "mimetype": "text/x-python",
   "name": "python",
   "nbconvert_exporter": "python",
   "pygments_lexer": "ipython2",
   "version": "2.7.11"
  },
  "widgets": {
   "state": {},
   "version": "1.1.1"
  }
 },
 "nbformat": 4,
 "nbformat_minor": 0
}
