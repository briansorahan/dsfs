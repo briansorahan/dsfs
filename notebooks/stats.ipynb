{
 "cells": [
  {
   "cell_type": "code",
   "execution_count": 3,
   "metadata": {
    "collapsed": false
   },
   "outputs": [
    {
     "name": "stdout",
     "output_type": "stream",
     "text": [
      "11\n"
     ]
    }
   ],
   "source": [
    "import pandas      as pd\n",
    "from   scipy       import stats\n",
    "\n",
    "data = '''Region,Alcohol,Tobacco\n",
    "North,6.47,4.03\n",
    "Yorkshire,6.13,3.76\n",
    "Northeast,6.19,3.77\n",
    "East Midlands,4.89,3.34\n",
    "West Midlands,5.63,3.47\n",
    "East Anglia,4.52,2.92\n",
    "Southeast,5.89,3.20\n",
    "Southwest,4.79,2.71\n",
    "Wales,5.27,3.53\n",
    "Scotland,6.08,4.51\n",
    "Northern Ireland,4.02,4.56'''\n",
    "\n",
    "data = data.splitlines()\n",
    "\n",
    "data = [i.split(',') for i in data]\n",
    "\n",
    "column_names = data[0] # this is the first row\n",
    "data_rows = data[1:] # these are all the following rows of data\n",
    "df = pd.DataFrame(data_rows, columns=column_names)\n",
    "\n",
    "##################\n",
    "# Central Tendency\n",
    "##################\n",
    "\n",
    "df['Alcohol'] = df['Alcohol'].astype(float)\n",
    "df['Tobacco'] = df['Tobacco'].astype(float)\n",
    "\n",
    "df['Alcohol'].mean() \n",
    "# 5.4436363636363634\n",
    "df['Alcohol'].median() \n",
    "# 5.63\n",
    "# If all numbers occur equally often, stats.mode() will return the smallest number\n",
    "stats.mode(df['Alcohol']) \n",
    "# 4.02\n",
    "\n",
    "df['Tobacco'].mean() \n",
    "# 3.6181818181818186\n",
    "df['Tobacco'].median() \n",
    "# 3.53\n",
    "stats.mode(df['Tobacco']) \n",
    "# 2.71\n",
    "\n",
    "#############\n",
    "# Variability\n",
    "#############\n",
    "\n",
    "max(df['Alcohol']) - min(df['Alcohol'])\n",
    "# 2.4500000000000002\n",
    "df['Alcohol'].std() \n",
    "# 0.79776278087252406\n",
    "df['Alcohol'].var() \n",
    "# 0.63642545454546284\n",
    "\n",
    "max(df['Tobacco']) - min(df['Tobacco'])\n",
    "# 1.8499999999999996\n",
    "df['Tobacco'].std() \n",
    "# 0.59070835751355388\n",
    "df['Tobacco'].var() \n",
    "# 0.3489363636363606"
   ]
  },
  {
   "cell_type": "code",
   "execution_count": null,
   "metadata": {
    "collapsed": true
   },
   "outputs": [],
   "source": []
  }
 ],
 "metadata": {
  "kernelspec": {
   "display_name": "Python 2",
   "language": "python",
   "name": "python2"
  },
  "language_info": {
   "codemirror_mode": {
    "name": "ipython",
    "version": 2
   },
   "file_extension": ".py",
   "mimetype": "text/x-python",
   "name": "python",
   "nbconvert_exporter": "python",
   "pygments_lexer": "ipython2",
   "version": "2.7.11"
  }
 },
 "nbformat": 4,
 "nbformat_minor": 0
}
