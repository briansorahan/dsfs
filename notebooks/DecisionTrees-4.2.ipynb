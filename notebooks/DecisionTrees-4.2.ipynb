{
 "cells": [
  {
   "cell_type": "code",
   "execution_count": 38,
   "metadata": {
    "collapsed": false
   },
   "outputs": [],
   "source": [
    "%matplotlib inline\n",
    "\n",
    "import matplotlib.pyplot as plt\n",
    "import numpy as np\n",
    "import pandas as pd"
   ]
  },
  {
   "cell_type": "code",
   "execution_count": 13,
   "metadata": {
    "collapsed": false
   },
   "outputs": [
    {
     "data": {
      "text/html": [
       "<div>\n",
       "<table border=\"1\" class=\"dataframe\">\n",
       "  <thead>\n",
       "    <tr style=\"text-align: right;\">\n",
       "      <th></th>\n",
       "      <th>activity</th>\n",
       "    </tr>\n",
       "    <tr>\n",
       "      <th>index</th>\n",
       "      <th></th>\n",
       "    </tr>\n",
       "  </thead>\n",
       "  <tbody>\n",
       "    <tr>\n",
       "      <th>1</th>\n",
       "      <td>WALKING</td>\n",
       "    </tr>\n",
       "    <tr>\n",
       "      <th>2</th>\n",
       "      <td>WALKING_UPSTAIRS</td>\n",
       "    </tr>\n",
       "    <tr>\n",
       "      <th>3</th>\n",
       "      <td>WALKING_DOWNSTAIRS</td>\n",
       "    </tr>\n",
       "    <tr>\n",
       "      <th>4</th>\n",
       "      <td>SITTING</td>\n",
       "    </tr>\n",
       "    <tr>\n",
       "      <th>5</th>\n",
       "      <td>STANDING</td>\n",
       "    </tr>\n",
       "    <tr>\n",
       "      <th>6</th>\n",
       "      <td>LAYING</td>\n",
       "    </tr>\n",
       "  </tbody>\n",
       "</table>\n",
       "</div>"
      ],
      "text/plain": [
       "                 activity\n",
       "index                    \n",
       "1                 WALKING\n",
       "2        WALKING_UPSTAIRS\n",
       "3      WALKING_DOWNSTAIRS\n",
       "4                 SITTING\n",
       "5                STANDING\n",
       "6                  LAYING"
      ]
     },
     "execution_count": 13,
     "metadata": {},
     "output_type": "execute_result"
    }
   ],
   "source": [
    "activities = pd.read_csv('ucihar/clean_labels.csv', index_col=0)\n",
    "activities"
   ]
  },
  {
   "cell_type": "code",
   "execution_count": 16,
   "metadata": {
    "collapsed": false
   },
   "outputs": [
    {
     "data": {
      "text/html": [
       "<div>\n",
       "<table border=\"1\" class=\"dataframe\">\n",
       "  <thead>\n",
       "    <tr style=\"text-align: right;\">\n",
       "      <th></th>\n",
       "      <th>reading</th>\n",
       "    </tr>\n",
       "    <tr>\n",
       "      <th>index</th>\n",
       "      <th></th>\n",
       "    </tr>\n",
       "  </thead>\n",
       "  <tbody>\n",
       "    <tr>\n",
       "      <th>1</th>\n",
       "      <td>tBodyAcc_mean_X</td>\n",
       "    </tr>\n",
       "    <tr>\n",
       "      <th>2</th>\n",
       "      <td>tBodyAcc_mean_Y</td>\n",
       "    </tr>\n",
       "    <tr>\n",
       "      <th>3</th>\n",
       "      <td>tBodyAcc_mean_Z</td>\n",
       "    </tr>\n",
       "    <tr>\n",
       "      <th>4</th>\n",
       "      <td>tBodyAcc_std_X</td>\n",
       "    </tr>\n",
       "    <tr>\n",
       "      <th>5</th>\n",
       "      <td>tBodyAcc_std_Y</td>\n",
       "    </tr>\n",
       "  </tbody>\n",
       "</table>\n",
       "</div>"
      ],
      "text/plain": [
       "               reading\n",
       "index                 \n",
       "1      tBodyAcc_mean_X\n",
       "2      tBodyAcc_mean_Y\n",
       "3      tBodyAcc_mean_Z\n",
       "4       tBodyAcc_std_X\n",
       "5       tBodyAcc_std_Y"
      ]
     },
     "execution_count": 16,
     "metadata": {},
     "output_type": "execute_result"
    }
   ],
   "source": [
    "readings = pd.read_csv('ucihar/cleaned_features.csv', index_col=0)\n",
    "readings.head()"
   ]
  },
  {
   "cell_type": "code",
   "execution_count": 36,
   "metadata": {
    "collapsed": false
   },
   "outputs": [
    {
     "data": {
      "text/html": [
       "<div>\n",
       "<table border=\"1\" class=\"dataframe\">\n",
       "  <thead>\n",
       "    <tr style=\"text-align: right;\">\n",
       "      <th></th>\n",
       "      <th>tBodyAcc_mean_X</th>\n",
       "      <th>tBodyAcc_mean_Y</th>\n",
       "      <th>tBodyAcc_mean_Z</th>\n",
       "      <th>tBodyAcc_std_X</th>\n",
       "      <th>tBodyAcc_std_Y</th>\n",
       "      <th>tBodyAcc_std_Z</th>\n",
       "      <th>tBodyAcc_mad_X</th>\n",
       "      <th>tBodyAcc_mad_Y</th>\n",
       "      <th>tBodyAcc_mad_Z</th>\n",
       "      <th>tBodyAcc_max_X</th>\n",
       "      <th>...</th>\n",
       "      <th>fBodyGyroJerkMag_meanFreq</th>\n",
       "      <th>fBodyGyroJerkMag_skewness</th>\n",
       "      <th>fBodyGyroJerkMag_kurtosis</th>\n",
       "      <th>angle(tBodyAccMean_gravity)</th>\n",
       "      <th>angle(tBodyAccJerkMean)_gravityMean)</th>\n",
       "      <th>angle(tBodyGyroMean_gravityMean)</th>\n",
       "      <th>angle(tBodyGyroJerkMean_gravityMean)</th>\n",
       "      <th>angle(X_gravityMean)</th>\n",
       "      <th>angle(Y_gravityMean)</th>\n",
       "      <th>angle(Z_gravityMean)</th>\n",
       "    </tr>\n",
       "  </thead>\n",
       "  <tbody>\n",
       "    <tr>\n",
       "      <th>1</th>\n",
       "      <td>0.288585</td>\n",
       "      <td>-0.020294</td>\n",
       "      <td>-0.132905</td>\n",
       "      <td>-0.995279</td>\n",
       "      <td>-0.983111</td>\n",
       "      <td>-0.913526</td>\n",
       "      <td>-0.995112</td>\n",
       "      <td>-0.983185</td>\n",
       "      <td>-0.923527</td>\n",
       "      <td>-0.934724</td>\n",
       "      <td>...</td>\n",
       "      <td>-0.074323</td>\n",
       "      <td>-0.298676</td>\n",
       "      <td>-0.710304</td>\n",
       "      <td>-0.112754</td>\n",
       "      <td>0.030400</td>\n",
       "      <td>-0.464761</td>\n",
       "      <td>-0.018446</td>\n",
       "      <td>-0.841247</td>\n",
       "      <td>0.179941</td>\n",
       "      <td>-0.058627</td>\n",
       "    </tr>\n",
       "    <tr>\n",
       "      <th>2</th>\n",
       "      <td>0.278419</td>\n",
       "      <td>-0.016411</td>\n",
       "      <td>-0.123520</td>\n",
       "      <td>-0.998245</td>\n",
       "      <td>-0.975300</td>\n",
       "      <td>-0.960322</td>\n",
       "      <td>-0.998807</td>\n",
       "      <td>-0.974914</td>\n",
       "      <td>-0.957686</td>\n",
       "      <td>-0.943068</td>\n",
       "      <td>...</td>\n",
       "      <td>0.158075</td>\n",
       "      <td>-0.595051</td>\n",
       "      <td>-0.861499</td>\n",
       "      <td>0.053477</td>\n",
       "      <td>-0.007435</td>\n",
       "      <td>-0.732626</td>\n",
       "      <td>0.703511</td>\n",
       "      <td>-0.844788</td>\n",
       "      <td>0.180289</td>\n",
       "      <td>-0.054317</td>\n",
       "    </tr>\n",
       "    <tr>\n",
       "      <th>3</th>\n",
       "      <td>0.279653</td>\n",
       "      <td>-0.019467</td>\n",
       "      <td>-0.113462</td>\n",
       "      <td>-0.995380</td>\n",
       "      <td>-0.967187</td>\n",
       "      <td>-0.978944</td>\n",
       "      <td>-0.996520</td>\n",
       "      <td>-0.963668</td>\n",
       "      <td>-0.977469</td>\n",
       "      <td>-0.938692</td>\n",
       "      <td>...</td>\n",
       "      <td>0.414503</td>\n",
       "      <td>-0.390748</td>\n",
       "      <td>-0.760104</td>\n",
       "      <td>-0.118559</td>\n",
       "      <td>0.177899</td>\n",
       "      <td>0.100699</td>\n",
       "      <td>0.808529</td>\n",
       "      <td>-0.848933</td>\n",
       "      <td>0.180637</td>\n",
       "      <td>-0.049118</td>\n",
       "    </tr>\n",
       "    <tr>\n",
       "      <th>4</th>\n",
       "      <td>0.279174</td>\n",
       "      <td>-0.026201</td>\n",
       "      <td>-0.123283</td>\n",
       "      <td>-0.996091</td>\n",
       "      <td>-0.983403</td>\n",
       "      <td>-0.990675</td>\n",
       "      <td>-0.997099</td>\n",
       "      <td>-0.982750</td>\n",
       "      <td>-0.989302</td>\n",
       "      <td>-0.938692</td>\n",
       "      <td>...</td>\n",
       "      <td>0.404573</td>\n",
       "      <td>-0.117290</td>\n",
       "      <td>-0.482845</td>\n",
       "      <td>-0.036788</td>\n",
       "      <td>-0.012892</td>\n",
       "      <td>0.640011</td>\n",
       "      <td>-0.485366</td>\n",
       "      <td>-0.848649</td>\n",
       "      <td>0.181935</td>\n",
       "      <td>-0.047663</td>\n",
       "    </tr>\n",
       "    <tr>\n",
       "      <th>5</th>\n",
       "      <td>0.276629</td>\n",
       "      <td>-0.016570</td>\n",
       "      <td>-0.115362</td>\n",
       "      <td>-0.998139</td>\n",
       "      <td>-0.980817</td>\n",
       "      <td>-0.990482</td>\n",
       "      <td>-0.998321</td>\n",
       "      <td>-0.979672</td>\n",
       "      <td>-0.990441</td>\n",
       "      <td>-0.942469</td>\n",
       "      <td>...</td>\n",
       "      <td>0.087753</td>\n",
       "      <td>-0.351471</td>\n",
       "      <td>-0.699205</td>\n",
       "      <td>0.123320</td>\n",
       "      <td>0.122542</td>\n",
       "      <td>0.693578</td>\n",
       "      <td>-0.615971</td>\n",
       "      <td>-0.847865</td>\n",
       "      <td>0.185151</td>\n",
       "      <td>-0.043892</td>\n",
       "    </tr>\n",
       "  </tbody>\n",
       "</table>\n",
       "<p>5 rows × 561 columns</p>\n",
       "</div>"
      ],
      "text/plain": [
       "   tBodyAcc_mean_X  tBodyAcc_mean_Y  tBodyAcc_mean_Z  tBodyAcc_std_X  \\\n",
       "1         0.288585        -0.020294        -0.132905       -0.995279   \n",
       "2         0.278419        -0.016411        -0.123520       -0.998245   \n",
       "3         0.279653        -0.019467        -0.113462       -0.995380   \n",
       "4         0.279174        -0.026201        -0.123283       -0.996091   \n",
       "5         0.276629        -0.016570        -0.115362       -0.998139   \n",
       "\n",
       "   tBodyAcc_std_Y  tBodyAcc_std_Z  tBodyAcc_mad_X  tBodyAcc_mad_Y  \\\n",
       "1       -0.983111       -0.913526       -0.995112       -0.983185   \n",
       "2       -0.975300       -0.960322       -0.998807       -0.974914   \n",
       "3       -0.967187       -0.978944       -0.996520       -0.963668   \n",
       "4       -0.983403       -0.990675       -0.997099       -0.982750   \n",
       "5       -0.980817       -0.990482       -0.998321       -0.979672   \n",
       "\n",
       "   tBodyAcc_mad_Z  tBodyAcc_max_X          ...           \\\n",
       "1       -0.923527       -0.934724          ...            \n",
       "2       -0.957686       -0.943068          ...            \n",
       "3       -0.977469       -0.938692          ...            \n",
       "4       -0.989302       -0.938692          ...            \n",
       "5       -0.990441       -0.942469          ...            \n",
       "\n",
       "   fBodyGyroJerkMag_meanFreq  fBodyGyroJerkMag_skewness  \\\n",
       "1                  -0.074323                  -0.298676   \n",
       "2                   0.158075                  -0.595051   \n",
       "3                   0.414503                  -0.390748   \n",
       "4                   0.404573                  -0.117290   \n",
       "5                   0.087753                  -0.351471   \n",
       "\n",
       "   fBodyGyroJerkMag_kurtosis  angle(tBodyAccMean_gravity)  \\\n",
       "1                  -0.710304                    -0.112754   \n",
       "2                  -0.861499                     0.053477   \n",
       "3                  -0.760104                    -0.118559   \n",
       "4                  -0.482845                    -0.036788   \n",
       "5                  -0.699205                     0.123320   \n",
       "\n",
       "   angle(tBodyAccJerkMean)_gravityMean)  angle(tBodyGyroMean_gravityMean)  \\\n",
       "1                              0.030400                         -0.464761   \n",
       "2                             -0.007435                         -0.732626   \n",
       "3                              0.177899                          0.100699   \n",
       "4                             -0.012892                          0.640011   \n",
       "5                              0.122542                          0.693578   \n",
       "\n",
       "   angle(tBodyGyroJerkMean_gravityMean)  angle(X_gravityMean)  \\\n",
       "1                             -0.018446             -0.841247   \n",
       "2                              0.703511             -0.844788   \n",
       "3                              0.808529             -0.848933   \n",
       "4                             -0.485366             -0.848649   \n",
       "5                             -0.615971             -0.847865   \n",
       "\n",
       "   angle(Y_gravityMean)  angle(Z_gravityMean)  \n",
       "1              0.179941             -0.058627  \n",
       "2              0.180289             -0.054317  \n",
       "3              0.180637             -0.049118  \n",
       "4              0.181935             -0.047663  \n",
       "5              0.185151             -0.043892  \n",
       "\n",
       "[5 rows x 561 columns]"
      ]
     },
     "execution_count": 36,
     "metadata": {},
     "output_type": "execute_result"
    }
   ],
   "source": [
    "column_names   = readings['reading'].values\n",
    "X_train        = pd.read_csv('ucihar/train/X_train.csv', header=None, names=column_names)\n",
    "X_train.index += 1 # match up the index with readings\n",
    "X_train.head()"
   ]
  },
  {
   "cell_type": "code",
   "execution_count": 39,
   "metadata": {
    "collapsed": false
   },
   "outputs": [
    {
     "data": {
      "text/plain": [
       "(7352, 561)"
      ]
     },
     "execution_count": 39,
     "metadata": {},
     "output_type": "execute_result"
    }
   ],
   "source": [
    "X_train.shape"
   ]
  },
  {
   "cell_type": "code",
   "execution_count": 44,
   "metadata": {
    "collapsed": false
   },
   "outputs": [
    {
     "data": {
      "text/html": [
       "<div>\n",
       "<table border=\"1\" class=\"dataframe\">\n",
       "  <thead>\n",
       "    <tr style=\"text-align: right;\">\n",
       "      <th></th>\n",
       "      <th>activity</th>\n",
       "    </tr>\n",
       "  </thead>\n",
       "  <tbody>\n",
       "    <tr>\n",
       "      <th>1</th>\n",
       "      <td>5</td>\n",
       "    </tr>\n",
       "    <tr>\n",
       "      <th>2</th>\n",
       "      <td>5</td>\n",
       "    </tr>\n",
       "    <tr>\n",
       "      <th>3</th>\n",
       "      <td>5</td>\n",
       "    </tr>\n",
       "    <tr>\n",
       "      <th>4</th>\n",
       "      <td>5</td>\n",
       "    </tr>\n",
       "    <tr>\n",
       "      <th>5</th>\n",
       "      <td>5</td>\n",
       "    </tr>\n",
       "  </tbody>\n",
       "</table>\n",
       "</div>"
      ],
      "text/plain": [
       "   activity\n",
       "1         5\n",
       "2         5\n",
       "3         5\n",
       "4         5\n",
       "5         5"
      ]
     },
     "execution_count": 44,
     "metadata": {},
     "output_type": "execute_result"
    }
   ],
   "source": [
    "y_train        = pd.read_table('ucihar/train/y_train.txt', header=None, names=['activity'])\n",
    "y_train.index += 1\n",
    "y_train.head()"
   ]
  },
  {
   "cell_type": "code",
   "execution_count": 45,
   "metadata": {
    "collapsed": false
   },
   "outputs": [
    {
     "data": {
      "text/plain": [
       "(7352, 1)"
      ]
     },
     "execution_count": 45,
     "metadata": {},
     "output_type": "execute_result"
    }
   ],
   "source": [
    "y_train.shape"
   ]
  },
  {
   "cell_type": "code",
   "execution_count": 67,
   "metadata": {
    "collapsed": false
   },
   "outputs": [
    {
     "data": {
      "text/html": [
       "<div>\n",
       "<table border=\"1\" class=\"dataframe\">\n",
       "  <thead>\n",
       "    <tr style=\"text-align: right;\">\n",
       "      <th></th>\n",
       "      <th>activity_L</th>\n",
       "      <th>activity_R</th>\n",
       "    </tr>\n",
       "  </thead>\n",
       "  <tbody>\n",
       "    <tr>\n",
       "      <th>1</th>\n",
       "      <td>5</td>\n",
       "      <td>STANDING</td>\n",
       "    </tr>\n",
       "    <tr>\n",
       "      <th>2</th>\n",
       "      <td>5</td>\n",
       "      <td>STANDING</td>\n",
       "    </tr>\n",
       "    <tr>\n",
       "      <th>3</th>\n",
       "      <td>5</td>\n",
       "      <td>STANDING</td>\n",
       "    </tr>\n",
       "    <tr>\n",
       "      <th>4</th>\n",
       "      <td>5</td>\n",
       "      <td>STANDING</td>\n",
       "    </tr>\n",
       "    <tr>\n",
       "      <th>5</th>\n",
       "      <td>5</td>\n",
       "      <td>STANDING</td>\n",
       "    </tr>\n",
       "  </tbody>\n",
       "</table>\n",
       "</div>"
      ],
      "text/plain": [
       "   activity_L activity_R\n",
       "1           5   STANDING\n",
       "2           5   STANDING\n",
       "3           5   STANDING\n",
       "4           5   STANDING\n",
       "5           5   STANDING"
      ]
     },
     "execution_count": 67,
     "metadata": {},
     "output_type": "execute_result"
    }
   ],
   "source": [
    "# Join the real activity values with their plaintext descriptions.\n",
    "activities_train = y_train.join(activities, on='activity', lsuffix='_L', rsuffix='_R')\n",
    "activities_train.head()"
   ]
  },
  {
   "cell_type": "code",
   "execution_count": 68,
   "metadata": {
    "collapsed": false
   },
   "outputs": [
    {
     "data": {
      "text/plain": [
       "(7352, 2)"
      ]
     },
     "execution_count": 68,
     "metadata": {},
     "output_type": "execute_result"
    }
   ],
   "source": [
    "activities_train.shape"
   ]
  },
  {
   "cell_type": "code",
   "execution_count": 70,
   "metadata": {
    "collapsed": false
   },
   "outputs": [
    {
     "data": {
      "text/html": [
       "<div>\n",
       "<table border=\"1\" class=\"dataframe\">\n",
       "  <thead>\n",
       "    <tr style=\"text-align: right;\">\n",
       "      <th></th>\n",
       "      <th>tBodyAcc_mean_X</th>\n",
       "      <th>tBodyAcc_mean_Y</th>\n",
       "      <th>tBodyAcc_mean_Z</th>\n",
       "      <th>tBodyAcc_std_X</th>\n",
       "      <th>tBodyAcc_std_Y</th>\n",
       "      <th>tBodyAcc_std_Z</th>\n",
       "      <th>tBodyAcc_mad_X</th>\n",
       "      <th>tBodyAcc_mad_Y</th>\n",
       "      <th>tBodyAcc_mad_Z</th>\n",
       "      <th>tBodyAcc_max_X</th>\n",
       "      <th>...</th>\n",
       "      <th>fBodyGyroJerkMag_kurtosis</th>\n",
       "      <th>angle(tBodyAccMean_gravity)</th>\n",
       "      <th>angle(tBodyAccJerkMean)_gravityMean)</th>\n",
       "      <th>angle(tBodyGyroMean_gravityMean)</th>\n",
       "      <th>angle(tBodyGyroJerkMean_gravityMean)</th>\n",
       "      <th>angle(X_gravityMean)</th>\n",
       "      <th>angle(Y_gravityMean)</th>\n",
       "      <th>angle(Z_gravityMean)</th>\n",
       "      <th>activity_L</th>\n",
       "      <th>activity_R</th>\n",
       "    </tr>\n",
       "  </thead>\n",
       "  <tbody>\n",
       "    <tr>\n",
       "      <th>1</th>\n",
       "      <td>0.288585</td>\n",
       "      <td>-0.020294</td>\n",
       "      <td>-0.132905</td>\n",
       "      <td>-0.995279</td>\n",
       "      <td>-0.983111</td>\n",
       "      <td>-0.913526</td>\n",
       "      <td>-0.995112</td>\n",
       "      <td>-0.983185</td>\n",
       "      <td>-0.923527</td>\n",
       "      <td>-0.934724</td>\n",
       "      <td>...</td>\n",
       "      <td>-0.710304</td>\n",
       "      <td>-0.112754</td>\n",
       "      <td>0.030400</td>\n",
       "      <td>-0.464761</td>\n",
       "      <td>-0.018446</td>\n",
       "      <td>-0.841247</td>\n",
       "      <td>0.179941</td>\n",
       "      <td>-0.058627</td>\n",
       "      <td>5</td>\n",
       "      <td>STANDING</td>\n",
       "    </tr>\n",
       "    <tr>\n",
       "      <th>2</th>\n",
       "      <td>0.278419</td>\n",
       "      <td>-0.016411</td>\n",
       "      <td>-0.123520</td>\n",
       "      <td>-0.998245</td>\n",
       "      <td>-0.975300</td>\n",
       "      <td>-0.960322</td>\n",
       "      <td>-0.998807</td>\n",
       "      <td>-0.974914</td>\n",
       "      <td>-0.957686</td>\n",
       "      <td>-0.943068</td>\n",
       "      <td>...</td>\n",
       "      <td>-0.861499</td>\n",
       "      <td>0.053477</td>\n",
       "      <td>-0.007435</td>\n",
       "      <td>-0.732626</td>\n",
       "      <td>0.703511</td>\n",
       "      <td>-0.844788</td>\n",
       "      <td>0.180289</td>\n",
       "      <td>-0.054317</td>\n",
       "      <td>5</td>\n",
       "      <td>STANDING</td>\n",
       "    </tr>\n",
       "    <tr>\n",
       "      <th>3</th>\n",
       "      <td>0.279653</td>\n",
       "      <td>-0.019467</td>\n",
       "      <td>-0.113462</td>\n",
       "      <td>-0.995380</td>\n",
       "      <td>-0.967187</td>\n",
       "      <td>-0.978944</td>\n",
       "      <td>-0.996520</td>\n",
       "      <td>-0.963668</td>\n",
       "      <td>-0.977469</td>\n",
       "      <td>-0.938692</td>\n",
       "      <td>...</td>\n",
       "      <td>-0.760104</td>\n",
       "      <td>-0.118559</td>\n",
       "      <td>0.177899</td>\n",
       "      <td>0.100699</td>\n",
       "      <td>0.808529</td>\n",
       "      <td>-0.848933</td>\n",
       "      <td>0.180637</td>\n",
       "      <td>-0.049118</td>\n",
       "      <td>5</td>\n",
       "      <td>STANDING</td>\n",
       "    </tr>\n",
       "    <tr>\n",
       "      <th>4</th>\n",
       "      <td>0.279174</td>\n",
       "      <td>-0.026201</td>\n",
       "      <td>-0.123283</td>\n",
       "      <td>-0.996091</td>\n",
       "      <td>-0.983403</td>\n",
       "      <td>-0.990675</td>\n",
       "      <td>-0.997099</td>\n",
       "      <td>-0.982750</td>\n",
       "      <td>-0.989302</td>\n",
       "      <td>-0.938692</td>\n",
       "      <td>...</td>\n",
       "      <td>-0.482845</td>\n",
       "      <td>-0.036788</td>\n",
       "      <td>-0.012892</td>\n",
       "      <td>0.640011</td>\n",
       "      <td>-0.485366</td>\n",
       "      <td>-0.848649</td>\n",
       "      <td>0.181935</td>\n",
       "      <td>-0.047663</td>\n",
       "      <td>5</td>\n",
       "      <td>STANDING</td>\n",
       "    </tr>\n",
       "    <tr>\n",
       "      <th>5</th>\n",
       "      <td>0.276629</td>\n",
       "      <td>-0.016570</td>\n",
       "      <td>-0.115362</td>\n",
       "      <td>-0.998139</td>\n",
       "      <td>-0.980817</td>\n",
       "      <td>-0.990482</td>\n",
       "      <td>-0.998321</td>\n",
       "      <td>-0.979672</td>\n",
       "      <td>-0.990441</td>\n",
       "      <td>-0.942469</td>\n",
       "      <td>...</td>\n",
       "      <td>-0.699205</td>\n",
       "      <td>0.123320</td>\n",
       "      <td>0.122542</td>\n",
       "      <td>0.693578</td>\n",
       "      <td>-0.615971</td>\n",
       "      <td>-0.847865</td>\n",
       "      <td>0.185151</td>\n",
       "      <td>-0.043892</td>\n",
       "      <td>5</td>\n",
       "      <td>STANDING</td>\n",
       "    </tr>\n",
       "  </tbody>\n",
       "</table>\n",
       "<p>5 rows × 563 columns</p>\n",
       "</div>"
      ],
      "text/plain": [
       "   tBodyAcc_mean_X  tBodyAcc_mean_Y  tBodyAcc_mean_Z  tBodyAcc_std_X  \\\n",
       "1         0.288585        -0.020294        -0.132905       -0.995279   \n",
       "2         0.278419        -0.016411        -0.123520       -0.998245   \n",
       "3         0.279653        -0.019467        -0.113462       -0.995380   \n",
       "4         0.279174        -0.026201        -0.123283       -0.996091   \n",
       "5         0.276629        -0.016570        -0.115362       -0.998139   \n",
       "\n",
       "   tBodyAcc_std_Y  tBodyAcc_std_Z  tBodyAcc_mad_X  tBodyAcc_mad_Y  \\\n",
       "1       -0.983111       -0.913526       -0.995112       -0.983185   \n",
       "2       -0.975300       -0.960322       -0.998807       -0.974914   \n",
       "3       -0.967187       -0.978944       -0.996520       -0.963668   \n",
       "4       -0.983403       -0.990675       -0.997099       -0.982750   \n",
       "5       -0.980817       -0.990482       -0.998321       -0.979672   \n",
       "\n",
       "   tBodyAcc_mad_Z  tBodyAcc_max_X     ...      fBodyGyroJerkMag_kurtosis  \\\n",
       "1       -0.923527       -0.934724     ...                      -0.710304   \n",
       "2       -0.957686       -0.943068     ...                      -0.861499   \n",
       "3       -0.977469       -0.938692     ...                      -0.760104   \n",
       "4       -0.989302       -0.938692     ...                      -0.482845   \n",
       "5       -0.990441       -0.942469     ...                      -0.699205   \n",
       "\n",
       "   angle(tBodyAccMean_gravity)  angle(tBodyAccJerkMean)_gravityMean)  \\\n",
       "1                    -0.112754                              0.030400   \n",
       "2                     0.053477                             -0.007435   \n",
       "3                    -0.118559                              0.177899   \n",
       "4                    -0.036788                             -0.012892   \n",
       "5                     0.123320                              0.122542   \n",
       "\n",
       "   angle(tBodyGyroMean_gravityMean)  angle(tBodyGyroJerkMean_gravityMean)  \\\n",
       "1                         -0.464761                             -0.018446   \n",
       "2                         -0.732626                              0.703511   \n",
       "3                          0.100699                              0.808529   \n",
       "4                          0.640011                             -0.485366   \n",
       "5                          0.693578                             -0.615971   \n",
       "\n",
       "   angle(X_gravityMean)  angle(Y_gravityMean)  angle(Z_gravityMean)  \\\n",
       "1             -0.841247              0.179941             -0.058627   \n",
       "2             -0.844788              0.180289             -0.054317   \n",
       "3             -0.848933              0.180637             -0.049118   \n",
       "4             -0.848649              0.181935             -0.047663   \n",
       "5             -0.847865              0.185151             -0.043892   \n",
       "\n",
       "   activity_L  activity_R  \n",
       "1           5    STANDING  \n",
       "2           5    STANDING  \n",
       "3           5    STANDING  \n",
       "4           5    STANDING  \n",
       "5           5    STANDING  \n",
       "\n",
       "[5 rows x 563 columns]"
      ]
     },
     "execution_count": 70,
     "metadata": {},
     "output_type": "execute_result"
    }
   ],
   "source": [
    "df = X_train.join(activities_train)\n",
    "df.head()"
   ]
  },
  {
   "cell_type": "code",
   "execution_count": 73,
   "metadata": {
    "collapsed": false
   },
   "outputs": [
    {
     "data": {
      "text/plain": [
       "<matplotlib.figure.Figure at 0x7fcab96d6cd0>"
      ]
     },
     "metadata": {},
     "output_type": "display_data"
    },
    {
     "data": {
      "image/png": "[encoded data removed]",
      "text/plain": [
       "<matplotlib.figure.Figure at 0x7fcab96d6c90>"
      ]
     },
     "metadata": {},
     "output_type": "display_data"
    }
   ],
   "source": [
    "# Plot tBodyAccMag_mean for each activity on a histogram.\n",
    "plt.figure()\n",
    "df.hist(column='tBodyAccMag_mean', by='activity_R')\n",
    "plt.show()"
   ]
  },
  {
   "cell_type": "code",
   "execution_count": null,
   "metadata": {
    "collapsed": true
   },
   "outputs": [],
   "source": []
  }
 ],
 "metadata": {
  "kernelspec": {
   "display_name": "Python 2",
   "language": "python",
   "name": "python2"
  },
  "language_info": {
   "codemirror_mode": {
    "name": "ipython",
    "version": 2
   },
   "file_extension": ".py",
   "mimetype": "text/x-python",
   "name": "python",
   "nbconvert_exporter": "python",
   "pygments_lexer": "ipython2",
   "version": "2.7.11"
  },
  "widgets": {
   "state": {},
   "version": "1.1.1"
  }
 },
 "nbformat": 4,
 "nbformat_minor": 0
}
