{
 "cells": [
  {
   "cell_type": "code",
   "execution_count": 1,
   "metadata": {
    "collapsed": true
   },
   "outputs": [],
   "source": [
    "import matplotlib.pyplot as plt\n",
    "import numpy             as np\n",
    "import pandas            as pd\n",
    "import sys"
   ]
  },
  {
   "cell_type": "code",
   "execution_count": 2,
   "metadata": {
    "collapsed": true
   },
   "outputs": [],
   "source": [
    "df = pd.read_csv('un.csv.1')"
   ]
  },
  {
   "cell_type": "code",
   "execution_count": 3,
   "metadata": {
    "collapsed": false
   },
   "outputs": [
    {
     "data": {
      "text/plain": [
       "(207, 14)"
      ]
     },
     "execution_count": 3,
     "metadata": {},
     "output_type": "execute_result"
    }
   ],
   "source": [
    "df.shape"
   ]
  },
  {
   "cell_type": "code",
   "execution_count": 4,
   "metadata": {
    "collapsed": false
   },
   "outputs": [
    {
     "data": {
      "text/html": [
       "<div>\n",
       "<table border=\"1\" class=\"dataframe\">\n",
       "  <thead>\n",
       "    <tr style=\"text-align: right;\">\n",
       "      <th></th>\n",
       "      <th>country</th>\n",
       "      <th>region</th>\n",
       "      <th>tfr</th>\n",
       "      <th>contraception</th>\n",
       "      <th>educationMale</th>\n",
       "      <th>educationFemale</th>\n",
       "      <th>lifeMale</th>\n",
       "      <th>lifeFemale</th>\n",
       "      <th>infantMortality</th>\n",
       "      <th>GDPperCapita</th>\n",
       "      <th>economicActivityMale</th>\n",
       "      <th>economicActivityFemale</th>\n",
       "      <th>illiteracyMale</th>\n",
       "      <th>illiteracyFemale</th>\n",
       "    </tr>\n",
       "  </thead>\n",
       "  <tbody>\n",
       "    <tr>\n",
       "      <th>0</th>\n",
       "      <td>Afghanistan</td>\n",
       "      <td>Asia</td>\n",
       "      <td>6.90</td>\n",
       "      <td>NaN</td>\n",
       "      <td>NaN</td>\n",
       "      <td>NaN</td>\n",
       "      <td>45.0</td>\n",
       "      <td>46.0</td>\n",
       "      <td>154</td>\n",
       "      <td>2848</td>\n",
       "      <td>87.5</td>\n",
       "      <td>7.2</td>\n",
       "      <td>52.800</td>\n",
       "      <td>85.00</td>\n",
       "    </tr>\n",
       "    <tr>\n",
       "      <th>1</th>\n",
       "      <td>Albania</td>\n",
       "      <td>Europe</td>\n",
       "      <td>2.60</td>\n",
       "      <td>NaN</td>\n",
       "      <td>NaN</td>\n",
       "      <td>NaN</td>\n",
       "      <td>68.0</td>\n",
       "      <td>74.0</td>\n",
       "      <td>32</td>\n",
       "      <td>863</td>\n",
       "      <td>NaN</td>\n",
       "      <td>NaN</td>\n",
       "      <td>NaN</td>\n",
       "      <td>NaN</td>\n",
       "    </tr>\n",
       "    <tr>\n",
       "      <th>2</th>\n",
       "      <td>Algeria</td>\n",
       "      <td>Africa</td>\n",
       "      <td>3.81</td>\n",
       "      <td>52</td>\n",
       "      <td>11.1</td>\n",
       "      <td>9.9</td>\n",
       "      <td>67.5</td>\n",
       "      <td>70.3</td>\n",
       "      <td>44</td>\n",
       "      <td>1531</td>\n",
       "      <td>76.4</td>\n",
       "      <td>7.8</td>\n",
       "      <td>26.100</td>\n",
       "      <td>51.00</td>\n",
       "    </tr>\n",
       "    <tr>\n",
       "      <th>3</th>\n",
       "      <td>American.Samoa</td>\n",
       "      <td>Asia</td>\n",
       "      <td>NaN</td>\n",
       "      <td>NaN</td>\n",
       "      <td>NaN</td>\n",
       "      <td>NaN</td>\n",
       "      <td>68.0</td>\n",
       "      <td>73.0</td>\n",
       "      <td>11</td>\n",
       "      <td>NaN</td>\n",
       "      <td>58.8</td>\n",
       "      <td>42.4</td>\n",
       "      <td>0.264</td>\n",
       "      <td>0.36</td>\n",
       "    </tr>\n",
       "    <tr>\n",
       "      <th>4</th>\n",
       "      <td>Andorra</td>\n",
       "      <td>Europe</td>\n",
       "      <td>NaN</td>\n",
       "      <td>NaN</td>\n",
       "      <td>NaN</td>\n",
       "      <td>NaN</td>\n",
       "      <td>NaN</td>\n",
       "      <td>NaN</td>\n",
       "      <td>NaN</td>\n",
       "      <td>NaN</td>\n",
       "      <td>NaN</td>\n",
       "      <td>NaN</td>\n",
       "      <td>NaN</td>\n",
       "      <td>NaN</td>\n",
       "    </tr>\n",
       "  </tbody>\n",
       "</table>\n",
       "</div>"
      ],
      "text/plain": [
       "          country  region   tfr  contraception  educationMale  \\\n",
       "0     Afghanistan    Asia  6.90            NaN            NaN   \n",
       "1         Albania  Europe  2.60            NaN            NaN   \n",
       "2         Algeria  Africa  3.81             52           11.1   \n",
       "3  American.Samoa    Asia   NaN            NaN            NaN   \n",
       "4         Andorra  Europe   NaN            NaN            NaN   \n",
       "\n",
       "   educationFemale  lifeMale  lifeFemale  infantMortality  GDPperCapita  \\\n",
       "0              NaN      45.0        46.0              154          2848   \n",
       "1              NaN      68.0        74.0               32           863   \n",
       "2              9.9      67.5        70.3               44          1531   \n",
       "3              NaN      68.0        73.0               11           NaN   \n",
       "4              NaN       NaN         NaN              NaN           NaN   \n",
       "\n",
       "   economicActivityMale  economicActivityFemale  illiteracyMale  \\\n",
       "0                  87.5                     7.2          52.800   \n",
       "1                   NaN                     NaN             NaN   \n",
       "2                  76.4                     7.8          26.100   \n",
       "3                  58.8                    42.4           0.264   \n",
       "4                   NaN                     NaN             NaN   \n",
       "\n",
       "   illiteracyFemale  \n",
       "0             85.00  \n",
       "1               NaN  \n",
       "2             51.00  \n",
       "3              0.36  \n",
       "4               NaN  "
      ]
     },
     "execution_count": 4,
     "metadata": {},
     "output_type": "execute_result"
    }
   ],
   "source": [
    "df.head()"
   ]
  },
  {
   "cell_type": "code",
   "execution_count": 5,
   "metadata": {
    "collapsed": false
   },
   "outputs": [
    {
     "data": {
      "text/plain": [
       "country                   207\n",
       "region                    207\n",
       "tfr                       197\n",
       "contraception             144\n",
       "educationMale              76\n",
       "educationFemale            76\n",
       "lifeMale                  196\n",
       "lifeFemale                196\n",
       "infantMortality           201\n",
       "GDPperCapita              197\n",
       "economicActivityMale      165\n",
       "economicActivityFemale    165\n",
       "illiteracyMale            160\n",
       "illiteracyFemale          160\n",
       "dtype: int64"
      ]
     },
     "execution_count": 5,
     "metadata": {},
     "output_type": "execute_result"
    }
   ],
   "source": [
    "df.count()"
   ]
  },
  {
   "cell_type": "code",
   "execution_count": 6,
   "metadata": {
    "collapsed": false
   },
   "outputs": [
    {
     "data": {
      "text/plain": [
       "country                     0\n",
       "region                      0\n",
       "tfr                        10\n",
       "contraception              63\n",
       "educationMale             131\n",
       "educationFemale           131\n",
       "lifeMale                   11\n",
       "lifeFemale                 11\n",
       "infantMortality             6\n",
       "GDPperCapita               10\n",
       "economicActivityMale       42\n",
       "economicActivityFemale     42\n",
       "illiteracyMale             47\n",
       "illiteracyFemale           47\n",
       "dtype: int64"
      ]
     },
     "execution_count": 6,
     "metadata": {},
     "output_type": "execute_result"
    }
   ],
   "source": [
    "# Suggestion from Daniel, shows how many are null in each column.\n",
    "df.isnull().sum()"
   ]
  },
  {
   "cell_type": "code",
   "execution_count": 7,
   "metadata": {
    "collapsed": false
   },
   "outputs": [
    {
     "data": {
      "text/plain": [
       "region                    207\n",
       "country                   207\n",
       "infantMortality           201\n",
       "GDPperCapita              197\n",
       "tfr                       197\n",
       "lifeFemale                196\n",
       "lifeMale                  196\n",
       "economicActivityFemale    165\n",
       "economicActivityMale      165\n",
       "illiteracyFemale          160\n",
       "illiteracyMale            160\n",
       "contraception             144\n",
       "educationFemale            76\n",
       "educationMale              76\n",
       "dtype: int64"
      ]
     },
     "execution_count": 7,
     "metadata": {},
     "output_type": "execute_result"
    }
   ],
   "source": [
    "df.count().sort_values(ascending=False)"
   ]
  },
  {
   "cell_type": "code",
   "execution_count": 8,
   "metadata": {
    "collapsed": false
   },
   "outputs": [
    {
     "data": {
      "text/plain": [
       "country                    object\n",
       "region                     object\n",
       "tfr                       float64\n",
       "contraception             float64\n",
       "educationMale             float64\n",
       "educationFemale           float64\n",
       "lifeMale                  float64\n",
       "lifeFemale                float64\n",
       "infantMortality           float64\n",
       "GDPperCapita              float64\n",
       "economicActivityMale      float64\n",
       "economicActivityFemale    float64\n",
       "illiteracyMale            float64\n",
       "illiteracyFemale          float64\n",
       "dtype: object"
      ]
     },
     "execution_count": 8,
     "metadata": {},
     "output_type": "execute_result"
    }
   ],
   "source": [
    "df.dtypes"
   ]
  },
  {
   "cell_type": "code",
   "execution_count": 9,
   "metadata": {
    "collapsed": false
   },
   "outputs": [],
   "source": [
    "from scipy.cluster.vq import vq, kmeans, whiten\n",
    "\n",
    "clusters = []\n",
    "k_range  = 10\n",
    "whitened = whiten(df[['lifeMale', 'lifeFemale', 'infantMortality', 'GDPperCapita']].dropna())\n",
    "\n",
    "for i in range(k_range):\n",
    "    codebook, distortion = kmeans(whitened, i+1)\n",
    "    clusters.append({ 'size': i+1, 'codebook': codebook, 'distortion': distortion })"
   ]
  },
  {
   "cell_type": "code",
   "execution_count": 10,
   "metadata": {
    "collapsed": false
   },
   "outputs": [
    {
     "data": {
      "text/plain": [
       "{'codebook': array([[ 5.12164539,  4.78508111,  2.47324317,  0.09593905],\n",
       "        [ 7.55365089,  7.21563377,  0.19925385,  2.43214287],\n",
       "        [ 6.85649973,  6.57747019,  0.7429855 ,  0.30474183]]),\n",
       " 'distortion': 0.74566783727885033,\n",
       " 'size': 3}"
      ]
     },
     "execution_count": 10,
     "metadata": {},
     "output_type": "execute_result"
    }
   ],
   "source": [
    "clusters[2]"
   ]
  },
  {
   "cell_type": "code",
   "execution_count": 11,
   "metadata": {
    "collapsed": false
   },
   "outputs": [
    {
     "data": {
      "text/plain": [
       "(188, 4)"
      ]
     },
     "execution_count": 11,
     "metadata": {},
     "output_type": "execute_result"
    }
   ],
   "source": [
    "# Calculate the distance between each point and the centroids of each cluster.\n",
    "features = df[['lifeMale', 'lifeFemale', 'infantMortality', 'GDPperCapita']].dropna()\n",
    "features.shape"
   ]
  },
  {
   "cell_type": "code",
   "execution_count": 12,
   "metadata": {
    "collapsed": false
   },
   "outputs": [],
   "source": [
    "import math\n",
    "\n",
    "def distance_from_centroid(centroid):\n",
    "    return lambda pt: math.sqrt(math.pow(centroid[0] - pt[0], 2) +\n",
    "                                math.pow(centroid[1] - pt[1], 2) +\n",
    "                                math.pow(centroid[2] - pt[2], 2) +\n",
    "                                math.pow(centroid[3] - pt[3], 2))\n",
    "\n",
    "# Probably want to use the whitened data to get meaningful results.\n",
    "# Distances will be a M by k data frame.\n",
    "for i in range(k_range):\n",
    "    clusters[i]['distances'] = pd.DataFrame(index=features.index)\n",
    "    for j in range(clusters[i]['size']):\n",
    "        f = distance_from_centroid(clusters[i]['codebook'][j])\n",
    "        # If I use features here instead of whitened,\n",
    "        # they all cluster around the first centroid (for cluster 3)\n",
    "        clusters[i]['distances']['d{}'.format(j+1)] = map(f, whitened)"
   ]
  },
  {
   "cell_type": "code",
   "execution_count": 13,
   "metadata": {
    "collapsed": false
   },
   "outputs": [
    {
     "data": {
      "text/html": [
       "<div>\n",
       "<table border=\"1\" class=\"dataframe\">\n",
       "  <thead>\n",
       "    <tr style=\"text-align: right;\">\n",
       "      <th></th>\n",
       "      <th>d1</th>\n",
       "      <th>d2</th>\n",
       "      <th>d3</th>\n",
       "    </tr>\n",
       "  </thead>\n",
       "  <tbody>\n",
       "    <tr>\n",
       "      <th>0</th>\n",
       "      <td>1.719691</td>\n",
       "      <td>6.063394</td>\n",
       "      <td>4.622629</td>\n",
       "    </tr>\n",
       "    <tr>\n",
       "      <th>1</th>\n",
       "      <td>3.110660</td>\n",
       "      <td>2.547496</td>\n",
       "      <td>0.266041</td>\n",
       "    </tr>\n",
       "    <tr>\n",
       "      <th>2</th>\n",
       "      <td>2.721985</td>\n",
       "      <td>2.674661</td>\n",
       "      <td>0.468742</td>\n",
       "    </tr>\n",
       "    <tr>\n",
       "      <th>5</th>\n",
       "      <td>1.001701</td>\n",
       "      <td>5.632920</td>\n",
       "      <td>4.026191</td>\n",
       "    </tr>\n",
       "    <tr>\n",
       "      <th>7</th>\n",
       "      <td>3.591763</td>\n",
       "      <td>1.654601</td>\n",
       "      <td>0.768677</td>\n",
       "    </tr>\n",
       "  </tbody>\n",
       "</table>\n",
       "</div>"
      ],
      "text/plain": [
       "         d1        d2        d3\n",
       "0  1.719691  6.063394  4.622629\n",
       "1  3.110660  2.547496  0.266041\n",
       "2  2.721985  2.674661  0.468742\n",
       "5  1.001701  5.632920  4.026191\n",
       "7  3.591763  1.654601  0.768677"
      ]
     },
     "execution_count": 13,
     "metadata": {},
     "output_type": "execute_result"
    }
   ],
   "source": [
    "clusters[2]['distances'].head()"
   ]
  },
  {
   "cell_type": "code",
   "execution_count": 14,
   "metadata": {
    "collapsed": false
   },
   "outputs": [],
   "source": [
    "def get_closest(distances):\n",
    "    return distances.idxmin()\n",
    "\n",
    "def d_squared(distances):\n",
    "    return math.pow(distances.min(), 2)\n",
    "    \n",
    "for i in range(k_range):\n",
    "    try:\n",
    "        clusters[i]['distances'].drop(labels=['closest'], inplace=True, axis=1)\n",
    "    except ValueError:\n",
    "        pass\n",
    "    clusters[i]['distances']['closest'] = clusters[i]['distances'].apply(func=get_closest, axis=1)\n",
    "    clusters[i]['distances']['d_squared'] = clusters[i]['distances'].apply(func=d_squared, axis=1)"
   ]
  },
  {
   "cell_type": "code",
   "execution_count": 15,
   "metadata": {
    "collapsed": false
   },
   "outputs": [
    {
     "data": {
      "text/html": [
       "<div>\n",
       "<table border=\"1\" class=\"dataframe\">\n",
       "  <thead>\n",
       "    <tr style=\"text-align: right;\">\n",
       "      <th></th>\n",
       "      <th>d1</th>\n",
       "      <th>d2</th>\n",
       "      <th>d3</th>\n",
       "      <th>closest</th>\n",
       "      <th>d_squared</th>\n",
       "    </tr>\n",
       "  </thead>\n",
       "  <tbody>\n",
       "    <tr>\n",
       "      <th>0</th>\n",
       "      <td>1.719691</td>\n",
       "      <td>6.063394</td>\n",
       "      <td>4.622629</td>\n",
       "      <td>d1</td>\n",
       "      <td>2.957336</td>\n",
       "    </tr>\n",
       "    <tr>\n",
       "      <th>1</th>\n",
       "      <td>3.110660</td>\n",
       "      <td>2.547496</td>\n",
       "      <td>0.266041</td>\n",
       "      <td>d3</td>\n",
       "      <td>0.070778</td>\n",
       "    </tr>\n",
       "    <tr>\n",
       "      <th>2</th>\n",
       "      <td>2.721985</td>\n",
       "      <td>2.674661</td>\n",
       "      <td>0.468742</td>\n",
       "      <td>d3</td>\n",
       "      <td>0.219719</td>\n",
       "    </tr>\n",
       "    <tr>\n",
       "      <th>5</th>\n",
       "      <td>1.001701</td>\n",
       "      <td>5.632920</td>\n",
       "      <td>4.026191</td>\n",
       "      <td>d1</td>\n",
       "      <td>1.003404</td>\n",
       "    </tr>\n",
       "    <tr>\n",
       "      <th>7</th>\n",
       "      <td>3.591763</td>\n",
       "      <td>1.654601</td>\n",
       "      <td>0.768677</td>\n",
       "      <td>d3</td>\n",
       "      <td>0.590865</td>\n",
       "    </tr>\n",
       "  </tbody>\n",
       "</table>\n",
       "</div>"
      ],
      "text/plain": [
       "         d1        d2        d3 closest  d_squared\n",
       "0  1.719691  6.063394  4.622629      d1   2.957336\n",
       "1  3.110660  2.547496  0.266041      d3   0.070778\n",
       "2  2.721985  2.674661  0.468742      d3   0.219719\n",
       "5  1.001701  5.632920  4.026191      d1   1.003404\n",
       "7  3.591763  1.654601  0.768677      d3   0.590865"
      ]
     },
     "execution_count": 15,
     "metadata": {},
     "output_type": "execute_result"
    }
   ],
   "source": [
    "clusters[2]['distances'].head()"
   ]
  },
  {
   "cell_type": "code",
   "execution_count": 16,
   "metadata": {
    "collapsed": false
   },
   "outputs": [
    {
     "data": {
      "text/html": [
       "<div>\n",
       "<table border=\"1\" class=\"dataframe\">\n",
       "  <thead>\n",
       "    <tr style=\"text-align: right;\">\n",
       "      <th>closest</th>\n",
       "      <th>d1</th>\n",
       "      <th>d2</th>\n",
       "      <th>d3</th>\n",
       "    </tr>\n",
       "  </thead>\n",
       "  <tbody>\n",
       "    <tr>\n",
       "      <th>0</th>\n",
       "      <td>2.957336</td>\n",
       "      <td>NaN</td>\n",
       "      <td>NaN</td>\n",
       "    </tr>\n",
       "    <tr>\n",
       "      <th>1</th>\n",
       "      <td>NaN</td>\n",
       "      <td>NaN</td>\n",
       "      <td>0.070778</td>\n",
       "    </tr>\n",
       "    <tr>\n",
       "      <th>2</th>\n",
       "      <td>NaN</td>\n",
       "      <td>NaN</td>\n",
       "      <td>0.219719</td>\n",
       "    </tr>\n",
       "    <tr>\n",
       "      <th>5</th>\n",
       "      <td>1.003404</td>\n",
       "      <td>NaN</td>\n",
       "      <td>NaN</td>\n",
       "    </tr>\n",
       "    <tr>\n",
       "      <th>7</th>\n",
       "      <td>NaN</td>\n",
       "      <td>NaN</td>\n",
       "      <td>0.590865</td>\n",
       "    </tr>\n",
       "  </tbody>\n",
       "</table>\n",
       "</div>"
      ],
      "text/plain": [
       "closest        d1  d2        d3\n",
       "0        2.957336 NaN       NaN\n",
       "1             NaN NaN  0.070778\n",
       "2             NaN NaN  0.219719\n",
       "5        1.003404 NaN       NaN\n",
       "7             NaN NaN  0.590865"
      ]
     },
     "execution_count": 16,
     "metadata": {},
     "output_type": "execute_result"
    }
   ],
   "source": [
    "clusters[2]['distances'].pivot(columns='closest', values='d_squared').head()"
   ]
  },
  {
   "cell_type": "code",
   "execution_count": 17,
   "metadata": {
    "collapsed": false
   },
   "outputs": [
    {
     "data": {
      "text/plain": [
       "46.902140289325537"
      ]
     },
     "execution_count": 17,
     "metadata": {},
     "output_type": "execute_result"
    }
   ],
   "source": [
    "# Average within-cluster sum of squares (for cluster 3).\n",
    "clusters[2]['distances'].pivot(columns='closest', values='d_squared').sum().mean()"
   ]
  },
  {
   "cell_type": "code",
   "execution_count": 18,
   "metadata": {
    "collapsed": false
   },
   "outputs": [],
   "source": [
    "# Calculate average within-cluster sum of squares for each centroid.\n",
    "wcss_averages = []\n",
    "for i in range(k_range):\n",
    "    wcss_averages.append(clusters[i]['distances'].pivot(columns='closest', values='d_squared').sum().mean())"
   ]
  },
  {
   "cell_type": "code",
   "execution_count": 19,
   "metadata": {
    "collapsed": false
   },
   "outputs": [
    {
     "data": {
      "text/plain": [
       "<matplotlib.axes._subplots.AxesSubplot at 0x7f4e417e6e90>"
      ]
     },
     "execution_count": 19,
     "metadata": {},
     "output_type": "execute_result"
    },
    {
     "data": {
      "image/png": "[encoded data removed]",
      "text/plain": [
       "<matplotlib.figure.Figure at 0x7f4e417e6610>"
      ]
     },
     "metadata": {},
     "output_type": "display_data"
    }
   ],
   "source": [
    "%matplotlib inline\n",
    "\n",
    "pd.DataFrame(wcss_averages).plot()"
   ]
  },
  {
   "cell_type": "code",
   "execution_count": 20,
   "metadata": {
    "collapsed": false
   },
   "outputs": [],
   "source": [
    "# We see the biggest drops in average wcss between 1 and 2, and 2 and 3.\n",
    "# Now we use kmeans with a cluster size of 3.\n",
    "cluster_size         = 3\n",
    "distances            = pd.DataFrame(index=features.index)\n",
    "codebook, distortion = kmeans(whitened, cluster_size)\n",
    "\n",
    "for i in range(cluster_size):\n",
    "    f = distance_from_centroid(codebook[i])\n",
    "    distances['d{}'.format(i+1)] = map(f, whitened)\n",
    "\n",
    "features['closest'] = distances.idxmin(axis=1)\n",
    "\n",
    "colors = { 'd1': 0, 'd2': 1, 'd3': 2 }\n",
    "features['color'] = map(lambda c: colors[c], features['closest'])"
   ]
  },
  {
   "cell_type": "code",
   "execution_count": 21,
   "metadata": {
    "collapsed": false
   },
   "outputs": [
    {
     "data": {
      "text/html": [
       "<div>\n",
       "<table border=\"1\" class=\"dataframe\">\n",
       "  <thead>\n",
       "    <tr style=\"text-align: right;\">\n",
       "      <th></th>\n",
       "      <th>lifeMale</th>\n",
       "      <th>lifeFemale</th>\n",
       "      <th>infantMortality</th>\n",
       "      <th>GDPperCapita</th>\n",
       "      <th>closest</th>\n",
       "      <th>color</th>\n",
       "    </tr>\n",
       "  </thead>\n",
       "  <tbody>\n",
       "    <tr>\n",
       "      <th>0</th>\n",
       "      <td>45.0</td>\n",
       "      <td>46.0</td>\n",
       "      <td>154</td>\n",
       "      <td>2848</td>\n",
       "      <td>d3</td>\n",
       "      <td>2</td>\n",
       "    </tr>\n",
       "    <tr>\n",
       "      <th>1</th>\n",
       "      <td>68.0</td>\n",
       "      <td>74.0</td>\n",
       "      <td>32</td>\n",
       "      <td>863</td>\n",
       "      <td>d2</td>\n",
       "      <td>1</td>\n",
       "    </tr>\n",
       "    <tr>\n",
       "      <th>2</th>\n",
       "      <td>67.5</td>\n",
       "      <td>70.3</td>\n",
       "      <td>44</td>\n",
       "      <td>1531</td>\n",
       "      <td>d2</td>\n",
       "      <td>1</td>\n",
       "    </tr>\n",
       "    <tr>\n",
       "      <th>5</th>\n",
       "      <td>44.9</td>\n",
       "      <td>48.1</td>\n",
       "      <td>124</td>\n",
       "      <td>355</td>\n",
       "      <td>d3</td>\n",
       "      <td>2</td>\n",
       "    </tr>\n",
       "    <tr>\n",
       "      <th>7</th>\n",
       "      <td>69.6</td>\n",
       "      <td>76.8</td>\n",
       "      <td>22</td>\n",
       "      <td>8055</td>\n",
       "      <td>d2</td>\n",
       "      <td>1</td>\n",
       "    </tr>\n",
       "  </tbody>\n",
       "</table>\n",
       "</div>"
      ],
      "text/plain": [
       "   lifeMale  lifeFemale  infantMortality  GDPperCapita closest  color\n",
       "0      45.0        46.0              154          2848      d3      2\n",
       "1      68.0        74.0               32           863      d2      1\n",
       "2      67.5        70.3               44          1531      d2      1\n",
       "5      44.9        48.1              124           355      d3      2\n",
       "7      69.6        76.8               22          8055      d2      1"
      ]
     },
     "execution_count": 21,
     "metadata": {},
     "output_type": "execute_result"
    }
   ],
   "source": [
    "features.head()"
   ]
  },
  {
   "cell_type": "code",
   "execution_count": 22,
   "metadata": {
    "collapsed": false
   },
   "outputs": [
    {
     "data": {
      "text/plain": [
       "<matplotlib.text.Text at 0x7f4e3f6667d0>"
      ]
     },
     "execution_count": 22,
     "metadata": {},
     "output_type": "execute_result"
    },
    {
     "data": {
      "image/png": "[encoded data removed]",
      "text/plain": [
       "<matplotlib.figure.Figure at 0x7f4e3f6ec490>"
      ]
     },
     "metadata": {},
     "output_type": "display_data"
    }
   ],
   "source": [
    "plt.figure(figsize=(12,12))\n",
    "plt.scatter(features['GDPperCapita'], features['infantMortality'], c=features['color'])\n",
    "plt.xlabel('GDP per Capita in USD')\n",
    "plt.ylabel('Infant Mortality Rate')"
   ]
  },
  {
   "cell_type": "code",
   "execution_count": 23,
   "metadata": {
    "collapsed": false
   },
   "outputs": [
    {
     "data": {
      "text/plain": [
       "<matplotlib.text.Text at 0x7f4e3f6ec890>"
      ]
     },
     "execution_count": 23,
     "metadata": {},
     "output_type": "execute_result"
    },
    {
     "data": {
      "image/png": "[encoded data removed]",
      "text/plain": [
       "<matplotlib.figure.Figure at 0x7f4e3f1f4ed0>"
      ]
     },
     "metadata": {},
     "output_type": "display_data"
    }
   ],
   "source": [
    "plt.figure(figsize=(12,12))\n",
    "plt.scatter(features['GDPperCapita'], features['lifeMale'], c=features['color'])\n",
    "plt.xlabel('GDP per Capita in USD')\n",
    "plt.ylabel('Male Life Expectancy')"
   ]
  },
  {
   "cell_type": "code",
   "execution_count": 24,
   "metadata": {
    "collapsed": false
   },
   "outputs": [
    {
     "data": {
      "text/plain": [
       "<matplotlib.text.Text at 0x7f4e3f20f710>"
      ]
     },
     "execution_count": 24,
     "metadata": {},
     "output_type": "execute_result"
    },
    {
     "data": {
      "image/png": "[encoded data removed]",
      "text/plain": [
       "<matplotlib.figure.Figure at 0x7f4e3f4fc9d0>"
      ]
     },
     "metadata": {},
     "output_type": "display_data"
    }
   ],
   "source": [
    "plt.figure(figsize=(12,12))\n",
    "plt.scatter(features['GDPperCapita'], features['lifeFemale'], c=features['color'])\n",
    "plt.xlabel('GDP per Capita in USD')\n",
    "plt.ylabel('Female Life Expectancy')"
   ]
  },
  {
   "cell_type": "code",
   "execution_count": null,
   "metadata": {
    "collapsed": true
   },
   "outputs": [],
   "source": []
  }
 ],
 "metadata": {
  "kernelspec": {
   "display_name": "Python 2",
   "language": "python",
   "name": "python2"
  },
  "language_info": {
   "codemirror_mode": {
    "name": "ipython",
    "version": 2
   },
   "file_extension": ".py",
   "mimetype": "text/x-python",
   "name": "python",
   "nbconvert_exporter": "python",
   "pygments_lexer": "ipython2",
   "version": "2.7.11"
  },
  "widgets": {
   "state": {},
   "version": "1.1.2"
  }
 },
 "nbformat": 4,
 "nbformat_minor": 0
}
