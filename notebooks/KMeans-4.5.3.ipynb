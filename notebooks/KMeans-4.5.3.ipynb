{
 "cells": [
  {
   "cell_type": "code",
   "execution_count": 126,
   "metadata": {
    "collapsed": true
   },
   "outputs": [],
   "source": [
    "import numpy as np\n",
    "import pandas as pd"
   ]
  },
  {
   "cell_type": "code",
   "execution_count": 127,
   "metadata": {
    "collapsed": true
   },
   "outputs": [],
   "source": [
    "df = pd.read_csv('un.csv.1')"
   ]
  },
  {
   "cell_type": "code",
   "execution_count": 128,
   "metadata": {
    "collapsed": false
   },
   "outputs": [
    {
     "data": {
      "text/plain": [
       "(207, 14)"
      ]
     },
     "execution_count": 128,
     "metadata": {},
     "output_type": "execute_result"
    }
   ],
   "source": [
    "df.shape"
   ]
  },
  {
   "cell_type": "code",
   "execution_count": 129,
   "metadata": {
    "collapsed": false
   },
   "outputs": [
    {
     "data": {
      "text/html": [
       "<div>\n",
       "<table border=\"1\" class=\"dataframe\">\n",
       "  <thead>\n",
       "    <tr style=\"text-align: right;\">\n",
       "      <th></th>\n",
       "      <th>country</th>\n",
       "      <th>region</th>\n",
       "      <th>tfr</th>\n",
       "      <th>contraception</th>\n",
       "      <th>educationMale</th>\n",
       "      <th>educationFemale</th>\n",
       "      <th>lifeMale</th>\n",
       "      <th>lifeFemale</th>\n",
       "      <th>infantMortality</th>\n",
       "      <th>GDPperCapita</th>\n",
       "      <th>economicActivityMale</th>\n",
       "      <th>economicActivityFemale</th>\n",
       "      <th>illiteracyMale</th>\n",
       "      <th>illiteracyFemale</th>\n",
       "    </tr>\n",
       "  </thead>\n",
       "  <tbody>\n",
       "    <tr>\n",
       "      <th>0</th>\n",
       "      <td>Afghanistan</td>\n",
       "      <td>Asia</td>\n",
       "      <td>6.90</td>\n",
       "      <td>NaN</td>\n",
       "      <td>NaN</td>\n",
       "      <td>NaN</td>\n",
       "      <td>45.0</td>\n",
       "      <td>46.0</td>\n",
       "      <td>154</td>\n",
       "      <td>2848</td>\n",
       "      <td>87.5</td>\n",
       "      <td>7.2</td>\n",
       "      <td>52.800</td>\n",
       "      <td>85.00</td>\n",
       "    </tr>\n",
       "    <tr>\n",
       "      <th>1</th>\n",
       "      <td>Albania</td>\n",
       "      <td>Europe</td>\n",
       "      <td>2.60</td>\n",
       "      <td>NaN</td>\n",
       "      <td>NaN</td>\n",
       "      <td>NaN</td>\n",
       "      <td>68.0</td>\n",
       "      <td>74.0</td>\n",
       "      <td>32</td>\n",
       "      <td>863</td>\n",
       "      <td>NaN</td>\n",
       "      <td>NaN</td>\n",
       "      <td>NaN</td>\n",
       "      <td>NaN</td>\n",
       "    </tr>\n",
       "    <tr>\n",
       "      <th>2</th>\n",
       "      <td>Algeria</td>\n",
       "      <td>Africa</td>\n",
       "      <td>3.81</td>\n",
       "      <td>52</td>\n",
       "      <td>11.1</td>\n",
       "      <td>9.9</td>\n",
       "      <td>67.5</td>\n",
       "      <td>70.3</td>\n",
       "      <td>44</td>\n",
       "      <td>1531</td>\n",
       "      <td>76.4</td>\n",
       "      <td>7.8</td>\n",
       "      <td>26.100</td>\n",
       "      <td>51.00</td>\n",
       "    </tr>\n",
       "    <tr>\n",
       "      <th>3</th>\n",
       "      <td>American.Samoa</td>\n",
       "      <td>Asia</td>\n",
       "      <td>NaN</td>\n",
       "      <td>NaN</td>\n",
       "      <td>NaN</td>\n",
       "      <td>NaN</td>\n",
       "      <td>68.0</td>\n",
       "      <td>73.0</td>\n",
       "      <td>11</td>\n",
       "      <td>NaN</td>\n",
       "      <td>58.8</td>\n",
       "      <td>42.4</td>\n",
       "      <td>0.264</td>\n",
       "      <td>0.36</td>\n",
       "    </tr>\n",
       "    <tr>\n",
       "      <th>4</th>\n",
       "      <td>Andorra</td>\n",
       "      <td>Europe</td>\n",
       "      <td>NaN</td>\n",
       "      <td>NaN</td>\n",
       "      <td>NaN</td>\n",
       "      <td>NaN</td>\n",
       "      <td>NaN</td>\n",
       "      <td>NaN</td>\n",
       "      <td>NaN</td>\n",
       "      <td>NaN</td>\n",
       "      <td>NaN</td>\n",
       "      <td>NaN</td>\n",
       "      <td>NaN</td>\n",
       "      <td>NaN</td>\n",
       "    </tr>\n",
       "  </tbody>\n",
       "</table>\n",
       "</div>"
      ],
      "text/plain": [
       "          country  region   tfr  contraception  educationMale  \\\n",
       "0     Afghanistan    Asia  6.90            NaN            NaN   \n",
       "1         Albania  Europe  2.60            NaN            NaN   \n",
       "2         Algeria  Africa  3.81             52           11.1   \n",
       "3  American.Samoa    Asia   NaN            NaN            NaN   \n",
       "4         Andorra  Europe   NaN            NaN            NaN   \n",
       "\n",
       "   educationFemale  lifeMale  lifeFemale  infantMortality  GDPperCapita  \\\n",
       "0              NaN      45.0        46.0              154          2848   \n",
       "1              NaN      68.0        74.0               32           863   \n",
       "2              9.9      67.5        70.3               44          1531   \n",
       "3              NaN      68.0        73.0               11           NaN   \n",
       "4              NaN       NaN         NaN              NaN           NaN   \n",
       "\n",
       "   economicActivityMale  economicActivityFemale  illiteracyMale  \\\n",
       "0                  87.5                     7.2          52.800   \n",
       "1                   NaN                     NaN             NaN   \n",
       "2                  76.4                     7.8          26.100   \n",
       "3                  58.8                    42.4           0.264   \n",
       "4                   NaN                     NaN             NaN   \n",
       "\n",
       "   illiteracyFemale  \n",
       "0             85.00  \n",
       "1               NaN  \n",
       "2             51.00  \n",
       "3              0.36  \n",
       "4               NaN  "
      ]
     },
     "execution_count": 129,
     "metadata": {},
     "output_type": "execute_result"
    }
   ],
   "source": [
    "df.head()"
   ]
  },
  {
   "cell_type": "code",
   "execution_count": 130,
   "metadata": {
    "collapsed": false
   },
   "outputs": [
    {
     "data": {
      "text/plain": [
       "country                   207\n",
       "region                    207\n",
       "tfr                       197\n",
       "contraception             144\n",
       "educationMale              76\n",
       "educationFemale            76\n",
       "lifeMale                  196\n",
       "lifeFemale                196\n",
       "infantMortality           201\n",
       "GDPperCapita              197\n",
       "economicActivityMale      165\n",
       "economicActivityFemale    165\n",
       "illiteracyMale            160\n",
       "illiteracyFemale          160\n",
       "dtype: int64"
      ]
     },
     "execution_count": 130,
     "metadata": {},
     "output_type": "execute_result"
    }
   ],
   "source": [
    "df.count()"
   ]
  },
  {
   "cell_type": "code",
   "execution_count": 131,
   "metadata": {
    "collapsed": false
   },
   "outputs": [
    {
     "data": {
      "text/plain": [
       "pandas.core.series.Series"
      ]
     },
     "execution_count": 131,
     "metadata": {},
     "output_type": "execute_result"
    }
   ],
   "source": [
    "type(df.count())"
   ]
  },
  {
   "cell_type": "code",
   "execution_count": 132,
   "metadata": {
    "collapsed": false
   },
   "outputs": [
    {
     "data": {
      "text/plain": [
       "region                    207\n",
       "country                   207\n",
       "infantMortality           201\n",
       "GDPperCapita              197\n",
       "tfr                       197\n",
       "lifeFemale                196\n",
       "lifeMale                  196\n",
       "economicActivityFemale    165\n",
       "economicActivityMale      165\n",
       "illiteracyFemale          160\n",
       "illiteracyMale            160\n",
       "contraception             144\n",
       "educationFemale            76\n",
       "educationMale              76\n",
       "dtype: int64"
      ]
     },
     "execution_count": 132,
     "metadata": {},
     "output_type": "execute_result"
    }
   ],
   "source": [
    "df.count().sort_values(ascending=False)"
   ]
  },
  {
   "cell_type": "code",
   "execution_count": 133,
   "metadata": {
    "collapsed": false
   },
   "outputs": [
    {
     "data": {
      "text/plain": [
       "country                    object\n",
       "region                     object\n",
       "tfr                       float64\n",
       "contraception             float64\n",
       "educationMale             float64\n",
       "educationFemale           float64\n",
       "lifeMale                  float64\n",
       "lifeFemale                float64\n",
       "infantMortality           float64\n",
       "GDPperCapita              float64\n",
       "economicActivityMale      float64\n",
       "economicActivityFemale    float64\n",
       "illiteracyMale            float64\n",
       "illiteracyFemale          float64\n",
       "dtype: object"
      ]
     },
     "execution_count": 133,
     "metadata": {},
     "output_type": "execute_result"
    }
   ],
   "source": [
    "df.dtypes"
   ]
  },
  {
   "cell_type": "code",
   "execution_count": 134,
   "metadata": {
    "collapsed": false
   },
   "outputs": [],
   "source": [
    "from scipy.cluster.vq import vq, kmeans, whiten\n",
    "\n",
    "clusters = []\n",
    "k_range  = 10\n",
    "whitened = whiten(df[['lifeMale', 'lifeFemale', 'infantMortality', 'GDPperCapita']].dropna())\n",
    "\n",
    "for i in range(k_range):\n",
    "    codebook, distortion = kmeans(whitened, i+1)\n",
    "    clusters.append({ 'size': i+1, 'codebook': codebook, 'distortion': distortion })"
   ]
  },
  {
   "cell_type": "code",
   "execution_count": 135,
   "metadata": {
    "collapsed": false
   },
   "outputs": [
    {
     "data": {
      "text/plain": [
       "{'codebook': array([[ 5.13921828,  4.8017149 ,  2.45945885,  0.09605102],\n",
       "        [ 6.87791691,  6.59946058,  0.72203844,  0.32270088],\n",
       "        [ 7.55558256,  7.21575251,  0.19885574,  2.50972306]]),\n",
       " 'distortion': 0.74630471929794706,\n",
       " 'size': 3}"
      ]
     },
     "execution_count": 135,
     "metadata": {},
     "output_type": "execute_result"
    }
   ],
   "source": [
    "clusters[2]"
   ]
  },
  {
   "cell_type": "code",
   "execution_count": 136,
   "metadata": {
    "collapsed": false
   },
   "outputs": [
    {
     "data": {
      "text/plain": [
       "(188, 4)"
      ]
     },
     "execution_count": 136,
     "metadata": {},
     "output_type": "execute_result"
    }
   ],
   "source": [
    "# Calculate the distance between each point and the centroids of each cluster.\n",
    "features = df[['lifeMale', 'lifeFemale', 'infantMortality', 'GDPperCapita']].dropna()\n",
    "features.shape"
   ]
  },
  {
   "cell_type": "code",
   "execution_count": 137,
   "metadata": {
    "collapsed": false
   },
   "outputs": [
    {
     "data": {
      "text/plain": [
       "10"
      ]
     },
     "execution_count": 137,
     "metadata": {},
     "output_type": "execute_result"
    }
   ],
   "source": [
    "len(clusters)"
   ]
  },
  {
   "cell_type": "code",
   "execution_count": 138,
   "metadata": {
    "collapsed": false
   },
   "outputs": [],
   "source": [
    "import math\n",
    "\n",
    "def distance_from_centroid(centroid):\n",
    "    return lambda pt: math.sqrt(math.pow(centroid[0] - pt[0], 2) +\n",
    "                                math.pow(centroid[1] - pt[1], 2) +\n",
    "                                math.pow(centroid[2] - pt[2], 2) +\n",
    "                                math.pow(centroid[3] - pt[3], 2))\n",
    "\n",
    "# Probably want to use the whitened data to get meaningful results.\n",
    "# Distances will be a M by k data frame.\n",
    "for i in range(k_range):\n",
    "    clusters[i]['distances'] = pd.DataFrame(index=features.index)\n",
    "    for j in range(clusters[i]['size']):\n",
    "        clusters[i]['distances']['d{}'.format(j+1)] = map(distance_from_centroid(clusters[i]['codebook'][j]), whitened)"
   ]
  },
  {
   "cell_type": "code",
   "execution_count": 139,
   "metadata": {
    "collapsed": false
   },
   "outputs": [
    {
     "data": {
      "text/html": [
       "<div>\n",
       "<table border=\"1\" class=\"dataframe\">\n",
       "  <thead>\n",
       "    <tr style=\"text-align: right;\">\n",
       "      <th></th>\n",
       "      <th>d1</th>\n",
       "      <th>d2</th>\n",
       "      <th>d3</th>\n",
       "    </tr>\n",
       "  </thead>\n",
       "  <tbody>\n",
       "    <tr>\n",
       "      <th>0</th>\n",
       "      <td>1.743161</td>\n",
       "      <td>4.659206</td>\n",
       "      <td>6.092094</td>\n",
       "    </tr>\n",
       "    <tr>\n",
       "      <th>1</th>\n",
       "      <td>3.082862</td>\n",
       "      <td>0.273071</td>\n",
       "      <td>2.619362</td>\n",
       "    </tr>\n",
       "    <tr>\n",
       "      <th>2</th>\n",
       "      <td>2.694156</td>\n",
       "      <td>0.500676</td>\n",
       "      <td>2.741168</td>\n",
       "    </tr>\n",
       "    <tr>\n",
       "      <th>5</th>\n",
       "      <td>1.028329</td>\n",
       "      <td>4.064415</td>\n",
       "      <td>5.667586</td>\n",
       "    </tr>\n",
       "    <tr>\n",
       "      <th>7</th>\n",
       "      <td>3.564708</td>\n",
       "      <td>0.732580</td>\n",
       "      <td>1.727036</td>\n",
       "    </tr>\n",
       "  </tbody>\n",
       "</table>\n",
       "</div>"
      ],
      "text/plain": [
       "         d1        d2        d3\n",
       "0  1.743161  4.659206  6.092094\n",
       "1  3.082862  0.273071  2.619362\n",
       "2  2.694156  0.500676  2.741168\n",
       "5  1.028329  4.064415  5.667586\n",
       "7  3.564708  0.732580  1.727036"
      ]
     },
     "execution_count": 139,
     "metadata": {},
     "output_type": "execute_result"
    }
   ],
   "source": [
    "clusters[2]['distances'].head()"
   ]
  },
  {
   "cell_type": "code",
   "execution_count": 140,
   "metadata": {
    "collapsed": false
   },
   "outputs": [],
   "source": [
    "def get_closest(distances):\n",
    "    return distances.idxmin()\n",
    "\n",
    "def d_squared(distances):\n",
    "    return math.pow(distances.min(), 2)\n",
    "    \n",
    "for i in range(k_range):\n",
    "    try:\n",
    "        clusters[i]['distances'].drop(labels=['closest'], inplace=True, axis=1)\n",
    "    except ValueError:\n",
    "        pass\n",
    "    clusters[i]['distances']['closest'] = clusters[i]['distances'].apply(func=get_closest, axis=1)\n",
    "    clusters[i]['distances']['d_squared'] = clusters[i]['distances'].apply(func=d_squared, axis=1)"
   ]
  },
  {
   "cell_type": "code",
   "execution_count": 141,
   "metadata": {
    "collapsed": false
   },
   "outputs": [
    {
     "data": {
      "text/html": [
       "<div>\n",
       "<table border=\"1\" class=\"dataframe\">\n",
       "  <thead>\n",
       "    <tr style=\"text-align: right;\">\n",
       "      <th></th>\n",
       "      <th>d1</th>\n",
       "      <th>d2</th>\n",
       "      <th>d3</th>\n",
       "      <th>closest</th>\n",
       "      <th>d_squared</th>\n",
       "    </tr>\n",
       "  </thead>\n",
       "  <tbody>\n",
       "    <tr>\n",
       "      <th>0</th>\n",
       "      <td>1.743161</td>\n",
       "      <td>4.659206</td>\n",
       "      <td>6.092094</td>\n",
       "      <td>d1</td>\n",
       "      <td>3.038609</td>\n",
       "    </tr>\n",
       "    <tr>\n",
       "      <th>1</th>\n",
       "      <td>3.082862</td>\n",
       "      <td>0.273071</td>\n",
       "      <td>2.619362</td>\n",
       "      <td>d2</td>\n",
       "      <td>0.074568</td>\n",
       "    </tr>\n",
       "    <tr>\n",
       "      <th>2</th>\n",
       "      <td>2.694156</td>\n",
       "      <td>0.500676</td>\n",
       "      <td>2.741168</td>\n",
       "      <td>d2</td>\n",
       "      <td>0.250677</td>\n",
       "    </tr>\n",
       "    <tr>\n",
       "      <th>5</th>\n",
       "      <td>1.028329</td>\n",
       "      <td>4.064415</td>\n",
       "      <td>5.667586</td>\n",
       "      <td>d1</td>\n",
       "      <td>1.057461</td>\n",
       "    </tr>\n",
       "    <tr>\n",
       "      <th>7</th>\n",
       "      <td>3.564708</td>\n",
       "      <td>0.732580</td>\n",
       "      <td>1.727036</td>\n",
       "      <td>d2</td>\n",
       "      <td>0.536673</td>\n",
       "    </tr>\n",
       "  </tbody>\n",
       "</table>\n",
       "</div>"
      ],
      "text/plain": [
       "         d1        d2        d3 closest  d_squared\n",
       "0  1.743161  4.659206  6.092094      d1   3.038609\n",
       "1  3.082862  0.273071  2.619362      d2   0.074568\n",
       "2  2.694156  0.500676  2.741168      d2   0.250677\n",
       "5  1.028329  4.064415  5.667586      d1   1.057461\n",
       "7  3.564708  0.732580  1.727036      d2   0.536673"
      ]
     },
     "execution_count": 141,
     "metadata": {},
     "output_type": "execute_result"
    }
   ],
   "source": [
    "clusters[2]['distances'].head()"
   ]
  },
  {
   "cell_type": "code",
   "execution_count": 142,
   "metadata": {
    "collapsed": false
   },
   "outputs": [
    {
     "data": {
      "text/html": [
       "<div>\n",
       "<table border=\"1\" class=\"dataframe\">\n",
       "  <thead>\n",
       "    <tr style=\"text-align: right;\">\n",
       "      <th>closest</th>\n",
       "      <th>d1</th>\n",
       "      <th>d2</th>\n",
       "      <th>d3</th>\n",
       "    </tr>\n",
       "  </thead>\n",
       "  <tbody>\n",
       "    <tr>\n",
       "      <th>0</th>\n",
       "      <td>3.038609</td>\n",
       "      <td>NaN</td>\n",
       "      <td>NaN</td>\n",
       "    </tr>\n",
       "    <tr>\n",
       "      <th>1</th>\n",
       "      <td>NaN</td>\n",
       "      <td>0.074568</td>\n",
       "      <td>NaN</td>\n",
       "    </tr>\n",
       "    <tr>\n",
       "      <th>2</th>\n",
       "      <td>NaN</td>\n",
       "      <td>0.250677</td>\n",
       "      <td>NaN</td>\n",
       "    </tr>\n",
       "    <tr>\n",
       "      <th>5</th>\n",
       "      <td>1.057461</td>\n",
       "      <td>NaN</td>\n",
       "      <td>NaN</td>\n",
       "    </tr>\n",
       "    <tr>\n",
       "      <th>7</th>\n",
       "      <td>NaN</td>\n",
       "      <td>0.536673</td>\n",
       "      <td>NaN</td>\n",
       "    </tr>\n",
       "  </tbody>\n",
       "</table>\n",
       "</div>"
      ],
      "text/plain": [
       "closest        d1        d2  d3\n",
       "0        3.038609       NaN NaN\n",
       "1             NaN  0.074568 NaN\n",
       "2             NaN  0.250677 NaN\n",
       "5        1.057461       NaN NaN\n",
       "7             NaN  0.536673 NaN"
      ]
     },
     "execution_count": 142,
     "metadata": {},
     "output_type": "execute_result"
    }
   ],
   "source": [
    "clusters[2]['distances'].pivot(columns='closest', values='d_squared').head()"
   ]
  },
  {
   "cell_type": "code",
   "execution_count": 143,
   "metadata": {
    "collapsed": false
   },
   "outputs": [
    {
     "data": {
      "text/plain": [
       "closest\n",
       "d1    1.098055\n",
       "d2    0.489967\n",
       "d3    0.898197\n",
       "dtype: float64"
      ]
     },
     "execution_count": 143,
     "metadata": {},
     "output_type": "execute_result"
    }
   ],
   "source": [
    "clusters[2]['distances'].pivot(columns='closest', values='d_squared').mean()"
   ]
  },
  {
   "cell_type": "code",
   "execution_count": 144,
   "metadata": {
    "collapsed": false
   },
   "outputs": [
    {
     "ename": "TypeError",
     "evalue": "append() takes exactly one argument (0 given)",
     "output_type": "error",
     "traceback": [
      "\u001b[1;31m---------------------------------------------------------------------------\u001b[0m",
      "\u001b[1;31mTypeError\u001b[0m                                 Traceback (most recent call last)",
      "\u001b[1;32m<ipython-input-144-fe7e5e280d05>\u001b[0m in \u001b[0;36m<module>\u001b[1;34m()\u001b[0m\n\u001b[0;32m      3\u001b[0m \u001b[1;32mfor\u001b[0m \u001b[0mi\u001b[0m \u001b[1;32min\u001b[0m \u001b[0mrange\u001b[0m\u001b[1;33m(\u001b[0m\u001b[0mk_range\u001b[0m\u001b[1;33m)\u001b[0m\u001b[1;33m:\u001b[0m\u001b[1;33m\u001b[0m\u001b[0m\n\u001b[0;32m      4\u001b[0m     \u001b[0mds\u001b[0m \u001b[1;33m=\u001b[0m \u001b[0mclusters\u001b[0m\u001b[1;33m[\u001b[0m\u001b[0mi\u001b[0m\u001b[1;33m]\u001b[0m\u001b[1;33m[\u001b[0m\u001b[1;34m'distances'\u001b[0m\u001b[1;33m]\u001b[0m\u001b[1;33m\u001b[0m\u001b[0m\n\u001b[1;32m----> 5\u001b[1;33m     \u001b[0mdistortions\u001b[0m\u001b[1;33m.\u001b[0m\u001b[0mappend\u001b[0m\u001b[1;33m(\u001b[0m\u001b[1;33m)\u001b[0m\u001b[1;33m\u001b[0m\u001b[0m\n\u001b[0m",
      "\u001b[1;31mTypeError\u001b[0m: append() takes exactly one argument (0 given)"
     ]
    }
   ],
   "source": [
    "# Calculate average within-cluster sum of squares for each centroid.\n",
    "distortions = []\n",
    "for i in range(k_range):\n",
    "    ds = clusters[i]['distances']"
   ]
  }
 ],
 "metadata": {
  "kernelspec": {
   "display_name": "Python 2",
   "language": "python",
   "name": "python2"
  },
  "language_info": {
   "codemirror_mode": {
    "name": "ipython",
    "version": 2
   },
   "file_extension": ".py",
   "mimetype": "text/x-python",
   "name": "python",
   "nbconvert_exporter": "python",
   "pygments_lexer": "ipython2",
   "version": "2.7.11"
  },
  "widgets": {
   "state": {},
   "version": "1.1.1"
  }
 },
 "nbformat": 4,
 "nbformat_minor": 0
}
